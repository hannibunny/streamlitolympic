{
 "cells": [
  {
   "cell_type": "code",
   "execution_count": 6,
   "id": "f7ee0cc8-b300-4eeb-9c08-2badee118549",
   "metadata": {},
   "outputs": [
    {
     "name": "stdout",
     "output_type": "stream",
     "text": [
      "Overwriting olympicapp.py\n"
     ]
    }
   ],
   "source": [
    "%%writefile olympicapp.py\n",
    "import streamlit as st\n",
    "import pandas as pd\n",
    "import plotly.express as px\n",
    "\n",
    "\n",
    "#Reference: https://medium.com/gitconnected/python-streamlit-does-olympic-hosting-make-your-medal-counts-soar-034c72004d4f\n",
    "\n",
    "\n",
    "# Load the dataset\n",
    "data = pd.read_csv('Summer_olympic_Medals.csv')\n",
    "st.subheader('Host Country Impact on Olympic Medal Performance')\n",
    "\n",
    "# Filter by Host Country\n",
    "host_country = st.selectbox('Select Host Country', sorted(data['Host_country'].unique()))\n",
    "\n",
    "# Filter data for the selected host country\n",
    "host_data = data[data['Host_country'] == host_country]\n",
    "country_data = data[data['Country_Name'] == host_country]\n",
    "# Extract years the country hosted the Olympics\n",
    "host_years = host_data['Year'].unique()\n",
    "\n",
    "# Summarize medal counts for the host country\n",
    "medal_counts = country_data.groupby('Year')[['Gold', 'Silver', 'Bronze']].sum().reset_index()\n",
    "medal_counts['Total'] = medal_counts['Gold'] + medal_counts['Silver'] + medal_counts['Bronze']\n",
    "\n",
    "# Create a line chart to compare total medal counts\n",
    "fig = px.line(medal_counts, x='Year', y='Total',\n",
    "              labels={'Total': 'Total Medal Count'},\n",
    "              title=f'Medal Performance of {host_country} Over the Years')\n",
    "# Update line color to gold and line width to 3 pixels\n",
    "fig.update_traces(line=dict(color='#f5ce0a', width=4))\n",
    "# Add annotations for host years\n",
    "for year in host_years:\n",
    "    fig.add_annotation(x=year, y=medal_counts[medal_counts['Year'] == year]['Total'].values[0],\n",
    "                       text=f\"Host Year ({year})\", showarrow=True, arrowhead=2)\n",
    "st.plotly_chart(fig)\n",
    "\n",
    "# Add Host city and year as text above the chart\n",
    "host_cities_years = host_data[['Year', 'Host_city']].drop_duplicates().reset_index(drop=True)\n",
    "host_cities_years_text = ', '.join([f\"{row['Host_city']} ({row['Year']})\" for _, row in host_cities_years.iterrows()])\n",
    "st.write(f\"**Host Cities and Years:** {host_cities_years_text}\")\n",
    "\n",
    "# Highlight host years in the table\n",
    "medal_counts['Host'] = medal_counts['Year'].apply(lambda x: 'Yes' if x in host_years else 'No')\n",
    "\n",
    "st.write(f'**Summarized Medal Counts for** {host_country}')\n",
    "# Define a function to highlight the rows where the country was the host\n",
    "def highlight_hosts(s):\n",
    "    return ['background-color: yellow' if v == 'Yes' else '' for v in s]\n",
    "styled_data = medal_counts.style.apply(highlight_hosts, subset=['Host'])\n",
    "st.dataframe(styled_data)"
   ]
  },
  {
   "cell_type": "code",
   "execution_count": null,
   "id": "db192ae6-b90a-4cb9-82a7-1c7872c2b32e",
   "metadata": {},
   "outputs": [],
   "source": []
  }
 ],
 "metadata": {
  "kernelspec": {
   "display_name": "Python 3 (ipykernel)",
   "language": "python",
   "name": "python3"
  },
  "language_info": {
   "codemirror_mode": {
    "name": "ipython",
    "version": 3
   },
   "file_extension": ".py",
   "mimetype": "text/x-python",
   "name": "python",
   "nbconvert_exporter": "python",
   "pygments_lexer": "ipython3",
   "version": "3.12.4"
  }
 },
 "nbformat": 4,
 "nbformat_minor": 5
}
