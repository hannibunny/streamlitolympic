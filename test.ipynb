{
 "cells": [
  {
   "cell_type": "code",
   "execution_count": 9,
   "id": "90ae19a6-fb7c-4fc4-a22f-85b0474551e3",
   "metadata": {},
   "outputs": [
    {
     "data": {
      "application/vnd.plotly.v1+json": {
       "config": {
        "plotlyServerURL": "https://plot.ly"
       },
       "data": [
        {
         "marker": {
          "color": "blue"
         },
         "mode": "markers",
         "name": "Partition 1",
         "type": "scatter",
         "x": [
          4.75357153204958,
          3.6599697090570253,
          2.993292420985183,
          3.540362888980227,
          0.10292247147901223,
          2.6237821581611893,
          2.1597250932105787,
          1.4561457009902097,
          3.0592644736118975,
          1.4607232426760908,
          3.925879806965068,
          2.9620728443102124,
          0.23225206359998862,
          3.0377242595071916,
          0.8526206184364576,
          4.828160165372797,
          0.48836057003191935,
          4.546602010393911,
          1.2938999080000846,
          3.31261142176991,
          2.7335513967163982,
          4.847923138822793,
          3.8756641168055728,
          4.697494707820946,
          4.474136752138244,
          4.609371175115584,
          1.3567451588694794,
          4.143687545759647,
          1.7837666334679465,
          1.4046725484369038,
          2.7134804157912424,
          4.010984903770199,
          0.3727532183988541,
          4.9344346830025865,
          0.993578407670862,
          0.027610585618011996,
          4.0773071422741705,
          3.6450358402049368,
          1.7923286427213632
         ],
         "y": [
          3.1164906341377896,
          1.654490124263246,
          0.3177917514301182,
          2.3610746258097466,
          0.5979712296915085,
          2.137705091792748,
          0.12709563372047594,
          0.5394571349665223,
          0.15714592843367126,
          1.5717799053816335,
          1.2464611457443748,
          1.1439908274581123,
          0.38489954914396496,
          1.4487572645688402,
          0.8061064362700221,
          3.1670187825521174,
          0.9328502944301792,
          0.5502596226383838,
          1.1396758127097084,
          2.1355389431312815,
          0.03476065265595352,
          2.087055015743895,
          1.1105390523536514,
          0.599326836668414,
          1.6880758570181398,
          1.6160146601037761,
          1.2589114791268208,
          2.4862425294619275,
          1.5043915490838482,
          1.424202471887338,
          0.18443473677266398,
          2.5133951161443076,
          0.25739375624994676,
          1.3932323211830573,
          1.197809453334862,
          0.7244743604561155,
          2.447263801387815,
          1.2102763575575022,
          1.1881877199619983
         ]
        },
        {
         "marker": {
          "color": "red"
         },
         "mode": "markers",
         "name": "Partition 2",
         "type": "scatter",
         "x": [
          1.838915663596266,
          3.1615291529678973,
          3.1676485538044736,
          4.17651247794619,
          1.6039003248586792,
          0.9325925519992712,
          0.20387570777381958,
          2.954464715941209,
          0.08293914463928076,
          2.560465291496405,
          1.1324788759896898,
          0.8718321450249572,
          3.45468869051233,
          1.933676731502687,
          1.7053317552512925,
          0.5673676062029454,
          1.289708138575778,
          3.299920230170895,
          4.0861110010060795,
          2.7760040579973118,
          0.46551383902949606,
          4.486078789766633,
          4.502090285816652,
          3.16550728636634,
          1.6951489552435035,
          1.7460478730633044,
          3.629778394351197,
          4.485551299762886,
          4.4354321213255865,
          3.899377729288119,
          3.2101582307714387,
          0.42069982497524416,
          0.8081435704730688,
          3.0321452982979498,
          0.5073577143301605,
          3.317508845540279,
          0.025307919231093434,
          0.8040402570874933,
          3.259806297513003,
          1.121346547302799
         ],
         "y": [
          4.702292921764571,
          4.769642885012937,
          4.574321951102243,
          4.641592812938627,
          2.1409207415865716,
          4.833274095218348,
          4.818099885446264,
          4.265047277336801,
          1.9254886430096263,
          4.255683357584284,
          1.5846100257813882,
          2.784006312291751,
          4.680773870803905,
          3.480148983374865,
          3.075036133495849,
          4.950269250521316,
          4.386865359639777,
          3.703843088771022,
          3.48507870497634,
          3.5124204199355464,
          4.046805777392568,
          4.050566973395904,
          4.335361592900519,
          4.566202762782357,
          2.556711994304689,
          2.507581473435998,
          3.9914758948338758,
          3.2498196538888258,
          3.509834386288517,
          3.978963347180505,
          4.450026709087831,
          1.689975784257679,
          1.87791476319972,
          2.89140070498087,
          2.3279900906623006,
          2.713223173537883,
          1.432706260641422,
          2.9541663028450538,
          4.113002803298292,
          1.8009532070563146
         ]
        },
        {
         "line": {
          "color": "green"
         },
         "mode": "lines",
         "name": "Trennlinie y = 0.5x + 1",
         "type": "scatter",
         "x": [
          0,
          0.050505050505050504,
          0.10101010101010101,
          0.15151515151515152,
          0.20202020202020202,
          0.25252525252525254,
          0.30303030303030304,
          0.35353535353535354,
          0.40404040404040403,
          0.45454545454545453,
          0.5050505050505051,
          0.5555555555555556,
          0.6060606060606061,
          0.6565656565656566,
          0.7070707070707071,
          0.7575757575757576,
          0.8080808080808081,
          0.8585858585858586,
          0.9090909090909091,
          0.9595959595959596,
          1.0101010101010102,
          1.0606060606060606,
          1.1111111111111112,
          1.1616161616161615,
          1.2121212121212122,
          1.2626262626262625,
          1.3131313131313131,
          1.3636363636363635,
          1.4141414141414141,
          1.4646464646464645,
          1.5151515151515151,
          1.5656565656565655,
          1.6161616161616161,
          1.6666666666666667,
          1.7171717171717171,
          1.7676767676767677,
          1.8181818181818181,
          1.8686868686868687,
          1.9191919191919191,
          1.9696969696969697,
          2.0202020202020203,
          2.0707070707070705,
          2.121212121212121,
          2.1717171717171717,
          2.2222222222222223,
          2.2727272727272725,
          2.323232323232323,
          2.3737373737373737,
          2.4242424242424243,
          2.474747474747475,
          2.525252525252525,
          2.5757575757575757,
          2.6262626262626263,
          2.676767676767677,
          2.727272727272727,
          2.7777777777777777,
          2.8282828282828283,
          2.878787878787879,
          2.929292929292929,
          2.9797979797979797,
          3.0303030303030303,
          3.080808080808081,
          3.131313131313131,
          3.1818181818181817,
          3.2323232323232323,
          3.282828282828283,
          3.3333333333333335,
          3.3838383838383836,
          3.4343434343434343,
          3.484848484848485,
          3.5353535353535355,
          3.5858585858585856,
          3.6363636363636362,
          3.686868686868687,
          3.7373737373737375,
          3.7878787878787876,
          3.8383838383838382,
          3.888888888888889,
          3.9393939393939394,
          3.9898989898989896,
          4.040404040404041,
          4.090909090909091,
          4.141414141414141,
          4.191919191919192,
          4.242424242424242,
          4.292929292929293,
          4.343434343434343,
          4.393939393939394,
          4.444444444444445,
          4.494949494949495,
          4.545454545454545,
          4.595959595959596,
          4.646464646464646,
          4.696969696969697,
          4.747474747474747,
          4.797979797979798,
          4.848484848484849,
          4.898989898989899,
          4.94949494949495,
          5
         ],
         "y": [
          1,
          1.0252525252525253,
          1.0505050505050506,
          1.0757575757575757,
          1.101010101010101,
          1.1262626262626263,
          1.1515151515151516,
          1.1767676767676767,
          1.202020202020202,
          1.2272727272727273,
          1.2525252525252526,
          1.2777777777777777,
          1.303030303030303,
          1.3282828282828283,
          1.3535353535353536,
          1.378787878787879,
          1.404040404040404,
          1.4292929292929293,
          1.4545454545454546,
          1.4797979797979797,
          1.5050505050505052,
          1.5303030303030303,
          1.5555555555555556,
          1.5808080808080809,
          1.606060606060606,
          1.6313131313131313,
          1.6565656565656566,
          1.6818181818181817,
          1.7070707070707072,
          1.7323232323232323,
          1.7575757575757576,
          1.7828282828282829,
          1.808080808080808,
          1.8333333333333335,
          1.8585858585858586,
          1.8838383838383839,
          1.9090909090909092,
          1.9343434343434343,
          1.9595959595959596,
          1.9848484848484849,
          2.0101010101010104,
          2.0353535353535355,
          2.0606060606060606,
          2.0858585858585856,
          2.111111111111111,
          2.1363636363636362,
          2.1616161616161618,
          2.186868686868687,
          2.212121212121212,
          2.2373737373737375,
          2.2626262626262625,
          2.287878787878788,
          2.313131313131313,
          2.3383838383838382,
          2.3636363636363633,
          2.388888888888889,
          2.4141414141414144,
          2.4393939393939394,
          2.4646464646464645,
          2.4898989898989896,
          2.515151515151515,
          2.5404040404040407,
          2.5656565656565657,
          2.590909090909091,
          2.616161616161616,
          2.6414141414141414,
          2.666666666666667,
          2.691919191919192,
          2.717171717171717,
          2.742424242424242,
          2.7676767676767677,
          2.792929292929293,
          2.8181818181818183,
          2.8434343434343434,
          2.8686868686868685,
          2.8939393939393936,
          2.919191919191919,
          2.9444444444444446,
          2.9696969696969697,
          2.994949494949495,
          3.0202020202020203,
          3.0454545454545454,
          3.0707070707070705,
          3.095959595959596,
          3.121212121212121,
          3.1464646464646466,
          3.1717171717171717,
          3.196969696969697,
          3.2222222222222223,
          3.2474747474747474,
          3.2727272727272725,
          3.297979797979798,
          3.323232323232323,
          3.3484848484848486,
          3.3737373737373737,
          3.398989898989899,
          3.4242424242424243,
          3.4494949494949494,
          3.474747474747475,
          3.5
         ]
        }
       ],
       "layout": {
        "autosize": true,
        "template": {
         "data": {
          "bar": [
           {
            "error_x": {
             "color": "#2a3f5f"
            },
            "error_y": {
             "color": "#2a3f5f"
            },
            "marker": {
             "line": {
              "color": "#E5ECF6",
              "width": 0.5
             },
             "pattern": {
              "fillmode": "overlay",
              "size": 10,
              "solidity": 0.2
             }
            },
            "type": "bar"
           }
          ],
          "barpolar": [
           {
            "marker": {
             "line": {
              "color": "#E5ECF6",
              "width": 0.5
             },
             "pattern": {
              "fillmode": "overlay",
              "size": 10,
              "solidity": 0.2
             }
            },
            "type": "barpolar"
           }
          ],
          "carpet": [
           {
            "aaxis": {
             "endlinecolor": "#2a3f5f",
             "gridcolor": "white",
             "linecolor": "white",
             "minorgridcolor": "white",
             "startlinecolor": "#2a3f5f"
            },
            "baxis": {
             "endlinecolor": "#2a3f5f",
             "gridcolor": "white",
             "linecolor": "white",
             "minorgridcolor": "white",
             "startlinecolor": "#2a3f5f"
            },
            "type": "carpet"
           }
          ],
          "choropleth": [
           {
            "colorbar": {
             "outlinewidth": 0,
             "ticks": ""
            },
            "type": "choropleth"
           }
          ],
          "contour": [
           {
            "colorbar": {
             "outlinewidth": 0,
             "ticks": ""
            },
            "colorscale": [
             [
              0,
              "#0d0887"
             ],
             [
              0.1111111111111111,
              "#46039f"
             ],
             [
              0.2222222222222222,
              "#7201a8"
             ],
             [
              0.3333333333333333,
              "#9c179e"
             ],
             [
              0.4444444444444444,
              "#bd3786"
             ],
             [
              0.5555555555555556,
              "#d8576b"
             ],
             [
              0.6666666666666666,
              "#ed7953"
             ],
             [
              0.7777777777777778,
              "#fb9f3a"
             ],
             [
              0.8888888888888888,
              "#fdca26"
             ],
             [
              1,
              "#f0f921"
             ]
            ],
            "type": "contour"
           }
          ],
          "contourcarpet": [
           {
            "colorbar": {
             "outlinewidth": 0,
             "ticks": ""
            },
            "type": "contourcarpet"
           }
          ],
          "heatmap": [
           {
            "colorbar": {
             "outlinewidth": 0,
             "ticks": ""
            },
            "colorscale": [
             [
              0,
              "#0d0887"
             ],
             [
              0.1111111111111111,
              "#46039f"
             ],
             [
              0.2222222222222222,
              "#7201a8"
             ],
             [
              0.3333333333333333,
              "#9c179e"
             ],
             [
              0.4444444444444444,
              "#bd3786"
             ],
             [
              0.5555555555555556,
              "#d8576b"
             ],
             [
              0.6666666666666666,
              "#ed7953"
             ],
             [
              0.7777777777777778,
              "#fb9f3a"
             ],
             [
              0.8888888888888888,
              "#fdca26"
             ],
             [
              1,
              "#f0f921"
             ]
            ],
            "type": "heatmap"
           }
          ],
          "heatmapgl": [
           {
            "colorbar": {
             "outlinewidth": 0,
             "ticks": ""
            },
            "colorscale": [
             [
              0,
              "#0d0887"
             ],
             [
              0.1111111111111111,
              "#46039f"
             ],
             [
              0.2222222222222222,
              "#7201a8"
             ],
             [
              0.3333333333333333,
              "#9c179e"
             ],
             [
              0.4444444444444444,
              "#bd3786"
             ],
             [
              0.5555555555555556,
              "#d8576b"
             ],
             [
              0.6666666666666666,
              "#ed7953"
             ],
             [
              0.7777777777777778,
              "#fb9f3a"
             ],
             [
              0.8888888888888888,
              "#fdca26"
             ],
             [
              1,
              "#f0f921"
             ]
            ],
            "type": "heatmapgl"
           }
          ],
          "histogram": [
           {
            "marker": {
             "pattern": {
              "fillmode": "overlay",
              "size": 10,
              "solidity": 0.2
             }
            },
            "type": "histogram"
           }
          ],
          "histogram2d": [
           {
            "colorbar": {
             "outlinewidth": 0,
             "ticks": ""
            },
            "colorscale": [
             [
              0,
              "#0d0887"
             ],
             [
              0.1111111111111111,
              "#46039f"
             ],
             [
              0.2222222222222222,
              "#7201a8"
             ],
             [
              0.3333333333333333,
              "#9c179e"
             ],
             [
              0.4444444444444444,
              "#bd3786"
             ],
             [
              0.5555555555555556,
              "#d8576b"
             ],
             [
              0.6666666666666666,
              "#ed7953"
             ],
             [
              0.7777777777777778,
              "#fb9f3a"
             ],
             [
              0.8888888888888888,
              "#fdca26"
             ],
             [
              1,
              "#f0f921"
             ]
            ],
            "type": "histogram2d"
           }
          ],
          "histogram2dcontour": [
           {
            "colorbar": {
             "outlinewidth": 0,
             "ticks": ""
            },
            "colorscale": [
             [
              0,
              "#0d0887"
             ],
             [
              0.1111111111111111,
              "#46039f"
             ],
             [
              0.2222222222222222,
              "#7201a8"
             ],
             [
              0.3333333333333333,
              "#9c179e"
             ],
             [
              0.4444444444444444,
              "#bd3786"
             ],
             [
              0.5555555555555556,
              "#d8576b"
             ],
             [
              0.6666666666666666,
              "#ed7953"
             ],
             [
              0.7777777777777778,
              "#fb9f3a"
             ],
             [
              0.8888888888888888,
              "#fdca26"
             ],
             [
              1,
              "#f0f921"
             ]
            ],
            "type": "histogram2dcontour"
           }
          ],
          "mesh3d": [
           {
            "colorbar": {
             "outlinewidth": 0,
             "ticks": ""
            },
            "type": "mesh3d"
           }
          ],
          "parcoords": [
           {
            "line": {
             "colorbar": {
              "outlinewidth": 0,
              "ticks": ""
             }
            },
            "type": "parcoords"
           }
          ],
          "pie": [
           {
            "automargin": true,
            "type": "pie"
           }
          ],
          "scatter": [
           {
            "fillpattern": {
             "fillmode": "overlay",
             "size": 10,
             "solidity": 0.2
            },
            "type": "scatter"
           }
          ],
          "scatter3d": [
           {
            "line": {
             "colorbar": {
              "outlinewidth": 0,
              "ticks": ""
             }
            },
            "marker": {
             "colorbar": {
              "outlinewidth": 0,
              "ticks": ""
             }
            },
            "type": "scatter3d"
           }
          ],
          "scattercarpet": [
           {
            "marker": {
             "colorbar": {
              "outlinewidth": 0,
              "ticks": ""
             }
            },
            "type": "scattercarpet"
           }
          ],
          "scattergeo": [
           {
            "marker": {
             "colorbar": {
              "outlinewidth": 0,
              "ticks": ""
             }
            },
            "type": "scattergeo"
           }
          ],
          "scattergl": [
           {
            "marker": {
             "colorbar": {
              "outlinewidth": 0,
              "ticks": ""
             }
            },
            "type": "scattergl"
           }
          ],
          "scattermapbox": [
           {
            "marker": {
             "colorbar": {
              "outlinewidth": 0,
              "ticks": ""
             }
            },
            "type": "scattermapbox"
           }
          ],
          "scatterpolar": [
           {
            "marker": {
             "colorbar": {
              "outlinewidth": 0,
              "ticks": ""
             }
            },
            "type": "scatterpolar"
           }
          ],
          "scatterpolargl": [
           {
            "marker": {
             "colorbar": {
              "outlinewidth": 0,
              "ticks": ""
             }
            },
            "type": "scatterpolargl"
           }
          ],
          "scatterternary": [
           {
            "marker": {
             "colorbar": {
              "outlinewidth": 0,
              "ticks": ""
             }
            },
            "type": "scatterternary"
           }
          ],
          "surface": [
           {
            "colorbar": {
             "outlinewidth": 0,
             "ticks": ""
            },
            "colorscale": [
             [
              0,
              "#0d0887"
             ],
             [
              0.1111111111111111,
              "#46039f"
             ],
             [
              0.2222222222222222,
              "#7201a8"
             ],
             [
              0.3333333333333333,
              "#9c179e"
             ],
             [
              0.4444444444444444,
              "#bd3786"
             ],
             [
              0.5555555555555556,
              "#d8576b"
             ],
             [
              0.6666666666666666,
              "#ed7953"
             ],
             [
              0.7777777777777778,
              "#fb9f3a"
             ],
             [
              0.8888888888888888,
              "#fdca26"
             ],
             [
              1,
              "#f0f921"
             ]
            ],
            "type": "surface"
           }
          ],
          "table": [
           {
            "cells": {
             "fill": {
              "color": "#EBF0F8"
             },
             "line": {
              "color": "white"
             }
            },
            "header": {
             "fill": {
              "color": "#C8D4E3"
             },
             "line": {
              "color": "white"
             }
            },
            "type": "table"
           }
          ]
         },
         "layout": {
          "annotationdefaults": {
           "arrowcolor": "#2a3f5f",
           "arrowhead": 0,
           "arrowwidth": 1
          },
          "autotypenumbers": "strict",
          "coloraxis": {
           "colorbar": {
            "outlinewidth": 0,
            "ticks": ""
           }
          },
          "colorscale": {
           "diverging": [
            [
             0,
             "#8e0152"
            ],
            [
             0.1,
             "#c51b7d"
            ],
            [
             0.2,
             "#de77ae"
            ],
            [
             0.3,
             "#f1b6da"
            ],
            [
             0.4,
             "#fde0ef"
            ],
            [
             0.5,
             "#f7f7f7"
            ],
            [
             0.6,
             "#e6f5d0"
            ],
            [
             0.7,
             "#b8e186"
            ],
            [
             0.8,
             "#7fbc41"
            ],
            [
             0.9,
             "#4d9221"
            ],
            [
             1,
             "#276419"
            ]
           ],
           "sequential": [
            [
             0,
             "#0d0887"
            ],
            [
             0.1111111111111111,
             "#46039f"
            ],
            [
             0.2222222222222222,
             "#7201a8"
            ],
            [
             0.3333333333333333,
             "#9c179e"
            ],
            [
             0.4444444444444444,
             "#bd3786"
            ],
            [
             0.5555555555555556,
             "#d8576b"
            ],
            [
             0.6666666666666666,
             "#ed7953"
            ],
            [
             0.7777777777777778,
             "#fb9f3a"
            ],
            [
             0.8888888888888888,
             "#fdca26"
            ],
            [
             1,
             "#f0f921"
            ]
           ],
           "sequentialminus": [
            [
             0,
             "#0d0887"
            ],
            [
             0.1111111111111111,
             "#46039f"
            ],
            [
             0.2222222222222222,
             "#7201a8"
            ],
            [
             0.3333333333333333,
             "#9c179e"
            ],
            [
             0.4444444444444444,
             "#bd3786"
            ],
            [
             0.5555555555555556,
             "#d8576b"
            ],
            [
             0.6666666666666666,
             "#ed7953"
            ],
            [
             0.7777777777777778,
             "#fb9f3a"
            ],
            [
             0.8888888888888888,
             "#fdca26"
            ],
            [
             1,
             "#f0f921"
            ]
           ]
          },
          "colorway": [
           "#636efa",
           "#EF553B",
           "#00cc96",
           "#ab63fa",
           "#FFA15A",
           "#19d3f3",
           "#FF6692",
           "#B6E880",
           "#FF97FF",
           "#FECB52"
          ],
          "font": {
           "color": "#2a3f5f"
          },
          "geo": {
           "bgcolor": "white",
           "lakecolor": "white",
           "landcolor": "#E5ECF6",
           "showlakes": true,
           "showland": true,
           "subunitcolor": "white"
          },
          "hoverlabel": {
           "align": "left"
          },
          "hovermode": "closest",
          "mapbox": {
           "style": "light"
          },
          "paper_bgcolor": "white",
          "plot_bgcolor": "#E5ECF6",
          "polar": {
           "angularaxis": {
            "gridcolor": "white",
            "linecolor": "white",
            "ticks": ""
           },
           "bgcolor": "#E5ECF6",
           "radialaxis": {
            "gridcolor": "white",
            "linecolor": "white",
            "ticks": ""
           }
          },
          "scene": {
           "xaxis": {
            "backgroundcolor": "#E5ECF6",
            "gridcolor": "white",
            "gridwidth": 2,
            "linecolor": "white",
            "showbackground": true,
            "ticks": "",
            "zerolinecolor": "white"
           },
           "yaxis": {
            "backgroundcolor": "#E5ECF6",
            "gridcolor": "white",
            "gridwidth": 2,
            "linecolor": "white",
            "showbackground": true,
            "ticks": "",
            "zerolinecolor": "white"
           },
           "zaxis": {
            "backgroundcolor": "#E5ECF6",
            "gridcolor": "white",
            "gridwidth": 2,
            "linecolor": "white",
            "showbackground": true,
            "ticks": "",
            "zerolinecolor": "white"
           }
          },
          "shapedefaults": {
           "line": {
            "color": "#2a3f5f"
           }
          },
          "ternary": {
           "aaxis": {
            "gridcolor": "white",
            "linecolor": "white",
            "ticks": ""
           },
           "baxis": {
            "gridcolor": "white",
            "linecolor": "white",
            "ticks": ""
           },
           "bgcolor": "#E5ECF6",
           "caxis": {
            "gridcolor": "white",
            "linecolor": "white",
            "ticks": ""
           }
          },
          "title": {
           "x": 0.05
          },
          "xaxis": {
           "automargin": true,
           "gridcolor": "white",
           "linecolor": "white",
           "ticks": "",
           "title": {
            "standoff": 15
           },
           "zerolinecolor": "white",
           "zerolinewidth": 2
          },
          "yaxis": {
           "automargin": true,
           "gridcolor": "white",
           "linecolor": "white",
           "ticks": "",
           "title": {
            "standoff": 15
           },
           "zerolinecolor": "white",
           "zerolinewidth": 2
          }
         }
        },
        "title": {
         "text": "Zwei Partitionen von Punkten, die durch eine lineare Funktion trennbar sind"
        },
        "xaxis": {
         "range": [
          0,
          5
         ],
         "title": {
          "text": "x"
         },
         "type": "linear"
        },
        "yaxis": {
         "range": [
          0,
          5
         ],
         "title": {
          "text": "y"
         },
         "type": "linear"
        }
       }
      },
      "image/png": "[encoded data removed]",
      "text/html": [
       "<div>                            <div id=\"e89ec110-d54f-408b-bd37-8542c8307413\" class=\"plotly-graph-div\" style=\"height:700px; width:100%;\"></div>            <script type=\"text/javascript\">                require([\"plotly\"], function(Plotly) {                    window.PLOTLYENV=window.PLOTLYENV || {};                                    if (document.getElementById(\"e89ec110-d54f-408b-bd37-8542c8307413\")) {                    Plotly.newPlot(                        \"e89ec110-d54f-408b-bd37-8542c8307413\",                        [{\"marker\":{\"color\":\"blue\"},\"mode\":\"markers\",\"name\":\"Partition 1\",\"x\":[4.75357153204958,3.6599697090570253,2.993292420985183,3.540362888980227,0.10292247147901223,2.6237821581611893,2.1597250932105787,1.4561457009902097,3.0592644736118975,1.4607232426760908,3.925879806965068,2.9620728443102124,0.23225206359998862,3.0377242595071916,0.8526206184364576,4.828160165372797,0.48836057003191935,4.546602010393911,1.2938999080000846,3.31261142176991,2.7335513967163982,4.847923138822793,3.8756641168055728,4.697494707820946,4.474136752138244,4.609371175115584,1.3567451588694794,4.143687545759647,1.7837666334679465,1.4046725484369038,2.7134804157912424,4.010984903770199,0.3727532183988541,4.9344346830025865,0.993578407670862,0.027610585618011996,4.0773071422741705,3.6450358402049368,1.7923286427213632],\"y\":[3.1164906341377896,1.654490124263246,0.3177917514301182,2.3610746258097466,0.5979712296915085,2.137705091792748,0.12709563372047594,0.5394571349665223,0.15714592843367126,1.5717799053816335,1.2464611457443748,1.1439908274581123,0.38489954914396496,1.4487572645688402,0.8061064362700221,3.1670187825521174,0.9328502944301792,0.5502596226383838,1.1396758127097084,2.1355389431312815,0.03476065265595352,2.087055015743895,1.1105390523536514,0.599326836668414,1.6880758570181398,1.6160146601037761,1.2589114791268208,2.4862425294619275,1.5043915490838482,1.424202471887338,0.18443473677266398,2.5133951161443076,0.25739375624994676,1.3932323211830573,1.197809453334862,0.7244743604561155,2.447263801387815,1.2102763575575022,1.1881877199619983],\"type\":\"scatter\"},{\"marker\":{\"color\":\"red\"},\"mode\":\"markers\",\"name\":\"Partition 2\",\"x\":[1.838915663596266,3.1615291529678973,3.1676485538044736,4.17651247794619,1.6039003248586792,0.9325925519992712,0.20387570777381958,2.954464715941209,0.08293914463928076,2.560465291496405,1.1324788759896898,0.8718321450249572,3.45468869051233,1.933676731502687,1.7053317552512925,0.5673676062029454,1.289708138575778,3.299920230170895,4.0861110010060795,2.7760040579973118,0.46551383902949606,4.486078789766633,4.502090285816652,3.16550728636634,1.6951489552435035,1.7460478730633044,3.629778394351197,4.485551299762886,4.4354321213255865,3.899377729288119,3.2101582307714387,0.42069982497524416,0.8081435704730688,3.0321452982979498,0.5073577143301605,3.317508845540279,0.025307919231093434,0.8040402570874933,3.259806297513003,1.121346547302799],\"y\":[4.702292921764571,4.769642885012937,4.574321951102243,4.641592812938627,2.1409207415865716,4.833274095218348,4.818099885446264,4.265047277336801,1.9254886430096263,4.255683357584284,1.5846100257813882,2.784006312291751,4.680773870803905,3.480148983374865,3.075036133495849,4.950269250521316,4.386865359639777,3.703843088771022,3.48507870497634,3.5124204199355464,4.046805777392568,4.050566973395904,4.335361592900519,4.566202762782357,2.556711994304689,2.507581473435998,3.9914758948338758,3.2498196538888258,3.509834386288517,3.978963347180505,4.450026709087831,1.689975784257679,1.87791476319972,2.89140070498087,2.3279900906623006,2.713223173537883,1.432706260641422,2.9541663028450538,4.113002803298292,1.8009532070563146],\"type\":\"scatter\"},{\"line\":{\"color\":\"green\"},\"mode\":\"lines\",\"name\":\"Trennlinie y = 0.5x + 1\",\"x\":[0.0,0.050505050505050504,0.10101010101010101,0.15151515151515152,0.20202020202020202,0.25252525252525254,0.30303030303030304,0.35353535353535354,0.40404040404040403,0.45454545454545453,0.5050505050505051,0.5555555555555556,0.6060606060606061,0.6565656565656566,0.7070707070707071,0.7575757575757576,0.8080808080808081,0.8585858585858586,0.9090909090909091,0.9595959595959596,1.0101010101010102,1.0606060606060606,1.1111111111111112,1.1616161616161615,1.2121212121212122,1.2626262626262625,1.3131313131313131,1.3636363636363635,1.4141414141414141,1.4646464646464645,1.5151515151515151,1.5656565656565655,1.6161616161616161,1.6666666666666667,1.7171717171717171,1.7676767676767677,1.8181818181818181,1.8686868686868687,1.9191919191919191,1.9696969696969697,2.0202020202020203,2.0707070707070705,2.121212121212121,2.1717171717171717,2.2222222222222223,2.2727272727272725,2.323232323232323,2.3737373737373737,2.4242424242424243,2.474747474747475,2.525252525252525,2.5757575757575757,2.6262626262626263,2.676767676767677,2.727272727272727,2.7777777777777777,2.8282828282828283,2.878787878787879,2.929292929292929,2.9797979797979797,3.0303030303030303,3.080808080808081,3.131313131313131,3.1818181818181817,3.2323232323232323,3.282828282828283,3.3333333333333335,3.3838383838383836,3.4343434343434343,3.484848484848485,3.5353535353535355,3.5858585858585856,3.6363636363636362,3.686868686868687,3.7373737373737375,3.7878787878787876,3.8383838383838382,3.888888888888889,3.9393939393939394,3.9898989898989896,4.040404040404041,4.090909090909091,4.141414141414141,4.191919191919192,4.242424242424242,4.292929292929293,4.343434343434343,4.393939393939394,4.444444444444445,4.494949494949495,4.545454545454545,4.595959595959596,4.646464646464646,4.696969696969697,4.747474747474747,4.797979797979798,4.848484848484849,4.898989898989899,4.94949494949495,5.0],\"y\":[1.0,1.0252525252525253,1.0505050505050506,1.0757575757575757,1.101010101010101,1.1262626262626263,1.1515151515151516,1.1767676767676767,1.202020202020202,1.2272727272727273,1.2525252525252526,1.2777777777777777,1.303030303030303,1.3282828282828283,1.3535353535353536,1.378787878787879,1.404040404040404,1.4292929292929293,1.4545454545454546,1.4797979797979797,1.5050505050505052,1.5303030303030303,1.5555555555555556,1.5808080808080809,1.606060606060606,1.6313131313131313,1.6565656565656566,1.6818181818181817,1.7070707070707072,1.7323232323232323,1.7575757575757576,1.7828282828282829,1.808080808080808,1.8333333333333335,1.8585858585858586,1.8838383838383839,1.9090909090909092,1.9343434343434343,1.9595959595959596,1.9848484848484849,2.0101010101010104,2.0353535353535355,2.0606060606060606,2.0858585858585856,2.111111111111111,2.1363636363636362,2.1616161616161618,2.186868686868687,2.212121212121212,2.2373737373737375,2.2626262626262625,2.287878787878788,2.313131313131313,2.3383838383838382,2.3636363636363633,2.388888888888889,2.4141414141414144,2.4393939393939394,2.4646464646464645,2.4898989898989896,2.515151515151515,2.5404040404040407,2.5656565656565657,2.590909090909091,2.616161616161616,2.6414141414141414,2.666666666666667,2.691919191919192,2.717171717171717,2.742424242424242,2.7676767676767677,2.792929292929293,2.8181818181818183,2.8434343434343434,2.8686868686868685,2.8939393939393936,2.919191919191919,2.9444444444444446,2.9696969696969697,2.994949494949495,3.0202020202020203,3.0454545454545454,3.0707070707070705,3.095959595959596,3.121212121212121,3.1464646464646466,3.1717171717171717,3.196969696969697,3.2222222222222223,3.2474747474747474,3.2727272727272725,3.297979797979798,3.323232323232323,3.3484848484848486,3.3737373737373737,3.398989898989899,3.4242424242424243,3.4494949494949494,3.474747474747475,3.5],\"type\":\"scatter\"}],                        {\"template\":{\"data\":{\"histogram2dcontour\":[{\"type\":\"histogram2dcontour\",\"colorbar\":{\"outlinewidth\":0,\"ticks\":\"\"},\"colorscale\":[[0.0,\"#0d0887\"],[0.1111111111111111,\"#46039f\"],[0.2222222222222222,\"#7201a8\"],[0.3333333333333333,\"#9c179e\"],[0.4444444444444444,\"#bd3786\"],[0.5555555555555556,\"#d8576b\"],[0.6666666666666666,\"#ed7953\"],[0.7777777777777778,\"#fb9f3a\"],[0.8888888888888888,\"#fdca26\"],[1.0,\"#f0f921\"]]}],\"choropleth\":[{\"type\":\"choropleth\",\"colorbar\":{\"outlinewidth\":0,\"ticks\":\"\"}}],\"histogram2d\":[{\"type\":\"histogram2d\",\"colorbar\":{\"outlinewidth\":0,\"ticks\":\"\"},\"colorscale\":[[0.0,\"#0d0887\"],[0.1111111111111111,\"#46039f\"],[0.2222222222222222,\"#7201a8\"],[0.3333333333333333,\"#9c179e\"],[0.4444444444444444,\"#bd3786\"],[0.5555555555555556,\"#d8576b\"],[0.6666666666666666,\"#ed7953\"],[0.7777777777777778,\"#fb9f3a\"],[0.8888888888888888,\"#fdca26\"],[1.0,\"#f0f921\"]]}],\"heatmap\":[{\"type\":\"heatmap\",\"colorbar\":{\"outlinewidth\":0,\"ticks\":\"\"},\"colorscale\":[[0.0,\"#0d0887\"],[0.1111111111111111,\"#46039f\"],[0.2222222222222222,\"#7201a8\"],[0.3333333333333333,\"#9c179e\"],[0.4444444444444444,\"#bd3786\"],[0.5555555555555556,\"#d8576b\"],[0.6666666666666666,\"#ed7953\"],[0.7777777777777778,\"#fb9f3a\"],[0.8888888888888888,\"#fdca26\"],[1.0,\"#f0f921\"]]}],\"heatmapgl\":[{\"type\":\"heatmapgl\",\"colorbar\":{\"outlinewidth\":0,\"ticks\":\"\"},\"colorscale\":[[0.0,\"#0d0887\"],[0.1111111111111111,\"#46039f\"],[0.2222222222222222,\"#7201a8\"],[0.3333333333333333,\"#9c179e\"],[0.4444444444444444,\"#bd3786\"],[0.5555555555555556,\"#d8576b\"],[0.6666666666666666,\"#ed7953\"],[0.7777777777777778,\"#fb9f3a\"],[0.8888888888888888,\"#fdca26\"],[1.0,\"#f0f921\"]]}],\"contourcarpet\":[{\"type\":\"contourcarpet\",\"colorbar\":{\"outlinewidth\":0,\"ticks\":\"\"}}],\"contour\":[{\"type\":\"contour\",\"colorbar\":{\"outlinewidth\":0,\"ticks\":\"\"},\"colorscale\":[[0.0,\"#0d0887\"],[0.1111111111111111,\"#46039f\"],[0.2222222222222222,\"#7201a8\"],[0.3333333333333333,\"#9c179e\"],[0.4444444444444444,\"#bd3786\"],[0.5555555555555556,\"#d8576b\"],[0.6666666666666666,\"#ed7953\"],[0.7777777777777778,\"#fb9f3a\"],[0.8888888888888888,\"#fdca26\"],[1.0,\"#f0f921\"]]}],\"surface\":[{\"type\":\"surface\",\"colorbar\":{\"outlinewidth\":0,\"ticks\":\"\"},\"colorscale\":[[0.0,\"#0d0887\"],[0.1111111111111111,\"#46039f\"],[0.2222222222222222,\"#7201a8\"],[0.3333333333333333,\"#9c179e\"],[0.4444444444444444,\"#bd3786\"],[0.5555555555555556,\"#d8576b\"],[0.6666666666666666,\"#ed7953\"],[0.7777777777777778,\"#fb9f3a\"],[0.8888888888888888,\"#fdca26\"],[1.0,\"#f0f921\"]]}],\"mesh3d\":[{\"type\":\"mesh3d\",\"colorbar\":{\"outlinewidth\":0,\"ticks\":\"\"}}],\"scatter\":[{\"fillpattern\":{\"fillmode\":\"overlay\",\"size\":10,\"solidity\":0.2},\"type\":\"scatter\"}],\"parcoords\":[{\"type\":\"parcoords\",\"line\":{\"colorbar\":{\"outlinewidth\":0,\"ticks\":\"\"}}}],\"scatterpolargl\":[{\"type\":\"scatterpolargl\",\"marker\":{\"colorbar\":{\"outlinewidth\":0,\"ticks\":\"\"}}}],\"bar\":[{\"error_x\":{\"color\":\"#2a3f5f\"},\"error_y\":{\"color\":\"#2a3f5f\"},\"marker\":{\"line\":{\"color\":\"#E5ECF6\",\"width\":0.5},\"pattern\":{\"fillmode\":\"overlay\",\"size\":10,\"solidity\":0.2}},\"type\":\"bar\"}],\"scattergeo\":[{\"type\":\"scattergeo\",\"marker\":{\"colorbar\":{\"outlinewidth\":0,\"ticks\":\"\"}}}],\"scatterpolar\":[{\"type\":\"scatterpolar\",\"marker\":{\"colorbar\":{\"outlinewidth\":0,\"ticks\":\"\"}}}],\"histogram\":[{\"marker\":{\"pattern\":{\"fillmode\":\"overlay\",\"size\":10,\"solidity\":0.2}},\"type\":\"histogram\"}],\"scattergl\":[{\"type\":\"scattergl\",\"marker\":{\"colorbar\":{\"outlinewidth\":0,\"ticks\":\"\"}}}],\"scatter3d\":[{\"type\":\"scatter3d\",\"line\":{\"colorbar\":{\"outlinewidth\":0,\"ticks\":\"\"}},\"marker\":{\"colorbar\":{\"outlinewidth\":0,\"ticks\":\"\"}}}],\"scattermapbox\":[{\"type\":\"scattermapbox\",\"marker\":{\"colorbar\":{\"outlinewidth\":0,\"ticks\":\"\"}}}],\"scatterternary\":[{\"type\":\"scatterternary\",\"marker\":{\"colorbar\":{\"outlinewidth\":0,\"ticks\":\"\"}}}],\"scattercarpet\":[{\"type\":\"scattercarpet\",\"marker\":{\"colorbar\":{\"outlinewidth\":0,\"ticks\":\"\"}}}],\"carpet\":[{\"aaxis\":{\"endlinecolor\":\"#2a3f5f\",\"gridcolor\":\"white\",\"linecolor\":\"white\",\"minorgridcolor\":\"white\",\"startlinecolor\":\"#2a3f5f\"},\"baxis\":{\"endlinecolor\":\"#2a3f5f\",\"gridcolor\":\"white\",\"linecolor\":\"white\",\"minorgridcolor\":\"white\",\"startlinecolor\":\"#2a3f5f\"},\"type\":\"carpet\"}],\"table\":[{\"cells\":{\"fill\":{\"color\":\"#EBF0F8\"},\"line\":{\"color\":\"white\"}},\"header\":{\"fill\":{\"color\":\"#C8D4E3\"},\"line\":{\"color\":\"white\"}},\"type\":\"table\"}],\"barpolar\":[{\"marker\":{\"line\":{\"color\":\"#E5ECF6\",\"width\":0.5},\"pattern\":{\"fillmode\":\"overlay\",\"size\":10,\"solidity\":0.2}},\"type\":\"barpolar\"}],\"pie\":[{\"automargin\":true,\"type\":\"pie\"}]},\"layout\":{\"autotypenumbers\":\"strict\",\"colorway\":[\"#636efa\",\"#EF553B\",\"#00cc96\",\"#ab63fa\",\"#FFA15A\",\"#19d3f3\",\"#FF6692\",\"#B6E880\",\"#FF97FF\",\"#FECB52\"],\"font\":{\"color\":\"#2a3f5f\"},\"hovermode\":\"closest\",\"hoverlabel\":{\"align\":\"left\"},\"paper_bgcolor\":\"white\",\"plot_bgcolor\":\"#E5ECF6\",\"polar\":{\"bgcolor\":\"#E5ECF6\",\"angularaxis\":{\"gridcolor\":\"white\",\"linecolor\":\"white\",\"ticks\":\"\"},\"radialaxis\":{\"gridcolor\":\"white\",\"linecolor\":\"white\",\"ticks\":\"\"}},\"ternary\":{\"bgcolor\":\"#E5ECF6\",\"aaxis\":{\"gridcolor\":\"white\",\"linecolor\":\"white\",\"ticks\":\"\"},\"baxis\":{\"gridcolor\":\"white\",\"linecolor\":\"white\",\"ticks\":\"\"},\"caxis\":{\"gridcolor\":\"white\",\"linecolor\":\"white\",\"ticks\":\"\"}},\"coloraxis\":{\"colorbar\":{\"outlinewidth\":0,\"ticks\":\"\"}},\"colorscale\":{\"sequential\":[[0.0,\"#0d0887\"],[0.1111111111111111,\"#46039f\"],[0.2222222222222222,\"#7201a8\"],[0.3333333333333333,\"#9c179e\"],[0.4444444444444444,\"#bd3786\"],[0.5555555555555556,\"#d8576b\"],[0.6666666666666666,\"#ed7953\"],[0.7777777777777778,\"#fb9f3a\"],[0.8888888888888888,\"#fdca26\"],[1.0,\"#f0f921\"]],\"sequentialminus\":[[0.0,\"#0d0887\"],[0.1111111111111111,\"#46039f\"],[0.2222222222222222,\"#7201a8\"],[0.3333333333333333,\"#9c179e\"],[0.4444444444444444,\"#bd3786\"],[0.5555555555555556,\"#d8576b\"],[0.6666666666666666,\"#ed7953\"],[0.7777777777777778,\"#fb9f3a\"],[0.8888888888888888,\"#fdca26\"],[1.0,\"#f0f921\"]],\"diverging\":[[0,\"#8e0152\"],[0.1,\"#c51b7d\"],[0.2,\"#de77ae\"],[0.3,\"#f1b6da\"],[0.4,\"#fde0ef\"],[0.5,\"#f7f7f7\"],[0.6,\"#e6f5d0\"],[0.7,\"#b8e186\"],[0.8,\"#7fbc41\"],[0.9,\"#4d9221\"],[1,\"#276419\"]]},\"xaxis\":{\"gridcolor\":\"white\",\"linecolor\":\"white\",\"ticks\":\"\",\"title\":{\"standoff\":15},\"zerolinecolor\":\"white\",\"automargin\":true,\"zerolinewidth\":2},\"yaxis\":{\"gridcolor\":\"white\",\"linecolor\":\"white\",\"ticks\":\"\",\"title\":{\"standoff\":15},\"zerolinecolor\":\"white\",\"automargin\":true,\"zerolinewidth\":2},\"scene\":{\"xaxis\":{\"backgroundcolor\":\"#E5ECF6\",\"gridcolor\":\"white\",\"linecolor\":\"white\",\"showbackground\":true,\"ticks\":\"\",\"zerolinecolor\":\"white\",\"gridwidth\":2},\"yaxis\":{\"backgroundcolor\":\"#E5ECF6\",\"gridcolor\":\"white\",\"linecolor\":\"white\",\"showbackground\":true,\"ticks\":\"\",\"zerolinecolor\":\"white\",\"gridwidth\":2},\"zaxis\":{\"backgroundcolor\":\"#E5ECF6\",\"gridcolor\":\"white\",\"linecolor\":\"white\",\"showbackground\":true,\"ticks\":\"\",\"zerolinecolor\":\"white\",\"gridwidth\":2}},\"shapedefaults\":{\"line\":{\"color\":\"#2a3f5f\"}},\"annotationdefaults\":{\"arrowcolor\":\"#2a3f5f\",\"arrowhead\":0,\"arrowwidth\":1},\"geo\":{\"bgcolor\":\"white\",\"landcolor\":\"#E5ECF6\",\"subunitcolor\":\"white\",\"showland\":true,\"showlakes\":true,\"lakecolor\":\"white\"},\"title\":{\"x\":0.05},\"mapbox\":{\"style\":\"light\"}}},\"xaxis\":{\"title\":{\"text\":\"x\"},\"range\":[0,5]},\"yaxis\":{\"title\":{\"text\":\"y\"},\"range\":[0,5]},\"title\":{\"text\":\"Zwei Partitionen von Punkten, die durch eine lineare Funktion trennbar sind\"},\"height\":700},                        {\"responsive\": true}                    ).then(function(){\n",
       "                            \n",
       "var gd = document.getElementById('e89ec110-d54f-408b-bd37-8542c8307413');\n",
       "var x = new MutationObserver(function (mutations, observer) {{\n",
       "        var display = window.getComputedStyle(gd).display;\n",
       "        if (!display || display === 'none') {{\n",
       "            console.log([gd, 'removed!']);\n",
       "            Plotly.purge(gd);\n",
       "            observer.disconnect();\n",
       "        }}\n",
       "}});\n",
       "\n",
       "// Listen for the removal of the full notebook cells\n",
       "var notebookContainer = gd.closest('#notebook-container');\n",
       "if (notebookContainer) {{\n",
       "    x.observe(notebookContainer, {childList: true});\n",
       "}}\n",
       "\n",
       "// Listen for the clearing of the current output cell\n",
       "var outputEl = gd.closest('.output');\n",
       "if (outputEl) {{\n",
       "    x.observe(outputEl, {childList: true});\n",
       "}}\n",
       "\n",
       "                        })                };                });            </script>        </div>"
      ]
     },
     "metadata": {},
     "output_type": "display_data"
    }
   ],
   "source": [
    "import numpy as np\n",
    "import plotly.graph_objects as go\n",
    "\n",
    "# Anzahl der Punkte\n",
    "n_points = 80\n",
    "n_partition = n_points // 2\n",
    "\n",
    "# Generiere Zufallspunkte zwischen 0 und 5 für beide Partitionen\n",
    "np.random.seed(42)\n",
    "\n",
    "# Lineare Trennungsfunktion: y = 0.5x + 1\n",
    "# Partition 1: Punkte unter der Linie\n",
    "x1 = np.random.uniform(0, 5, n_partition * 2)\n",
    "y1 = np.random.uniform(0, 5, n_partition * 2)\n",
    "mask1 = y1 < 0.5 * x1 + 1  # Bedingung für Partition 1\n",
    "x1, y1 = x1[mask1][:n_partition], y1[mask1][:n_partition]  # Beschränke auf 40 Punkte\n",
    "\n",
    "# Partition 2: Punkte über der Linie\n",
    "x2 = np.random.uniform(0, 5, n_partition * 2)\n",
    "y2 = np.random.uniform(0, 5, n_partition * 2)\n",
    "mask2 = y2 >= 0.5 * x2 + 1  # Bedingung für Partition 2\n",
    "x2, y2 = x2[mask2][:n_partition], y2[mask2][:n_partition]  # Beschränke auf 40 Punkte\n",
    "\n",
    "# Erstellen der Visualisierung mit plotly\n",
    "fig = go.Figure()\n",
    "\n",
    "# Punkte der ersten Partition\n",
    "fig.add_trace(go.Scatter(x=x1, y=y1, mode='markers', name='Partition 1', marker=dict(color='blue')))\n",
    "\n",
    "# Punkte der zweiten Partition\n",
    "fig.add_trace(go.Scatter(x=x2, y=y2, mode='markers', name='Partition 2', marker=dict(color='red')))\n",
    "\n",
    "# Zeichne die Trennlinie y = 0.5x + 1\n",
    "x_line = np.linspace(0, 5, 100)\n",
    "y_line = 0.5 * x_line + 1\n",
    "fig.add_trace(go.Scatter(x=x_line, y=y_line, mode='lines', name='Trennlinie y = 0.5x + 1', line=dict(color='green')))\n",
    "\n",
    "# Layout-Einstellungen\n",
    "fig.update_layout(\n",
    "    title='Zwei Partitionen von Punkten, die durch eine lineare Funktion trennbar sind',\n",
    "    xaxis_title='x',\n",
    "    yaxis_title='y',\n",
    "    xaxis=dict(range=[0, 5]),\n",
    "    yaxis=dict(range=[0, 5]),\n",
    "    height=700\n",
    ")\n",
    "\n",
    "# Visualisierung anzeigen\n",
    "fig.show()\n"
   ]
  },
  {
   "cell_type": "code",
   "execution_count": 8,
   "id": "32ebc4aa-af6d-4c9b-86e2-f06ae2cb9bc2",
   "metadata": {},
   "outputs": [
    {
     "data": {
      "application/vnd.plotly.v1+json": {
       "config": {
        "plotlyServerURL": "https://plot.ly"
       },
       "data": [
        {
         "marker": {
          "color": "blue"
         },
         "mode": "markers",
         "name": "Partition 1",
         "type": "scatter",
         "x": [
          4.75357153204958,
          3.6599697090570253,
          2.993292420985183,
          4.330880728874676,
          3.540362888980227,
          0.10292247147901223,
          4.8495492608099715,
          2.1597250932105787,
          1.4561457009902097,
          3.0592644736118975,
          1.4607232426760908,
          3.925879806965068,
          2.9620728443102124,
          0.23225206359998862,
          3.0377242595071916,
          0.8526206184364576,
          4.7444276862666666,
          4.828160165372797,
          0.48836057003191935,
          4.546602010393911,
          1.2938999080000846,
          3.31261142176991,
          2.7335513967163982,
          4.847923138822793,
          3.8756641168055728,
          4.697494707820946,
          4.474136752138244,
          4.609371175115584,
          1.3567451588694794,
          4.143687545759647,
          1.7837666334679465,
          1.4046725484369038,
          2.7134804157912424,
          4.010984903770199,
          0.3727532183988541,
          4.9344346830025865,
          0.993578407670862,
          0.027610585618011996,
          4.0773071422741705,
          3.6450358402049368
         ],
         "y": [
          3.1164906341377896,
          1.654490124263246,
          0.3177917514301182,
          3.1877873567760657,
          2.3610746258097466,
          0.5979712296915085,
          3.566223936114975,
          0.12709563372047594,
          0.5394571349665223,
          0.15714592843367126,
          1.5717799053816335,
          1.2464611457443748,
          1.1439908274581123,
          0.38489954914396496,
          1.4487572645688402,
          0.8061064362700221,
          4.040601897822085,
          3.1670187825521174,
          0.9328502944301792,
          0.5502596226383838,
          1.1396758127097084,
          2.1355389431312815,
          0.03476065265595352,
          2.087055015743895,
          1.1105390523536514,
          0.599326836668414,
          1.6880758570181398,
          1.6160146601037761,
          1.2589114791268208,
          2.4862425294619275,
          1.5043915490838482,
          1.424202471887338,
          0.18443473677266398,
          2.5133951161443076,
          0.25739375624994676,
          1.3932323211830573,
          1.197809453334862,
          0.7244743604561155,
          2.447263801387815,
          1.2102763575575022
         ]
        },
        {
         "marker": {
          "color": "red"
         },
         "mode": "markers",
         "name": "Partition 2",
         "type": "scatter",
         "x": [
          1.838915663596266,
          3.1615291529678973,
          3.1676485538044736,
          4.17651247794619,
          1.6039003248586792,
          0.9325925519992712,
          0.20387570777381958,
          2.954464715941209,
          0.08293914463928076,
          2.560465291496405,
          0.8718321450249572,
          3.45468869051233,
          1.933676731502687,
          1.7053317552512925,
          0.5673676062029454,
          1.289708138575778,
          3.299920230170895,
          2.7760040579973118,
          0.46551383902949606,
          3.16550728636634,
          1.6951489552435035,
          1.7460478730633044,
          3.629778394351197,
          3.899377729288119,
          3.2101582307714387,
          0.42069982497524416,
          0.8081435704730688,
          3.0321452982979498,
          0.5073577143301605,
          3.317508845540279,
          0.025307919231093434,
          0.8040402570874933,
          3.259806297513003,
          1.121346547302799,
          1.1862454374840004,
          1.6269984907963386,
          3.2481644952360735,
          2.841543016677358,
          0.4683738391404624,
          1.8385790152971677
         ],
         "y": [
          4.702292921764571,
          4.769642885012937,
          4.574321951102243,
          4.641592812938627,
          2.1409207415865716,
          4.833274095218348,
          4.818099885446264,
          4.265047277336801,
          1.9254886430096263,
          4.255683357584284,
          2.784006312291751,
          4.680773870803905,
          3.480148983374865,
          3.075036133495849,
          4.950269250521316,
          4.386865359639777,
          3.703843088771022,
          3.5124204199355464,
          4.046805777392568,
          4.566202762782357,
          2.556711994304689,
          2.507581473435998,
          3.9914758948338758,
          3.978963347180505,
          4.450026709087831,
          1.689975784257679,
          1.87791476319972,
          2.89140070498087,
          2.3279900906623006,
          2.713223173537883,
          1.432706260641422,
          2.9541663028450538,
          4.113002803298292,
          1.8009532070563146,
          2.611216300274022,
          3.849967765493054,
          3.114452379095001,
          2.65677315784074,
          2.7031756080505325,
          3.187149507491033
         ]
        },
        {
         "line": {
          "color": "green"
         },
         "mode": "lines",
         "name": "Trennpolynom y = 0.1x^3 - 0.5x^2 + x + 1",
         "type": "scatter",
         "x": [
          0,
          0.050505050505050504,
          0.10101010101010101,
          0.15151515151515152,
          0.20202020202020202,
          0.25252525252525254,
          0.30303030303030304,
          0.35353535353535354,
          0.40404040404040403,
          0.45454545454545453,
          0.5050505050505051,
          0.5555555555555556,
          0.6060606060606061,
          0.6565656565656566,
          0.7070707070707071,
          0.7575757575757576,
          0.8080808080808081,
          0.8585858585858586,
          0.9090909090909091,
          0.9595959595959596,
          1.0101010101010102,
          1.0606060606060606,
          1.1111111111111112,
          1.1616161616161615,
          1.2121212121212122,
          1.2626262626262625,
          1.3131313131313131,
          1.3636363636363635,
          1.4141414141414141,
          1.4646464646464645,
          1.5151515151515151,
          1.5656565656565655,
          1.6161616161616161,
          1.6666666666666667,
          1.7171717171717171,
          1.7676767676767677,
          1.8181818181818181,
          1.8686868686868687,
          1.9191919191919191,
          1.9696969696969697,
          2.0202020202020203,
          2.0707070707070705,
          2.121212121212121,
          2.1717171717171717,
          2.2222222222222223,
          2.2727272727272725,
          2.323232323232323,
          2.3737373737373737,
          2.4242424242424243,
          2.474747474747475,
          2.525252525252525,
          2.5757575757575757,
          2.6262626262626263,
          2.676767676767677,
          2.727272727272727,
          2.7777777777777777,
          2.8282828282828283,
          2.878787878787879,
          2.929292929292929,
          2.9797979797979797,
          3.0303030303030303,
          3.080808080808081,
          3.131313131313131,
          3.1818181818181817,
          3.2323232323232323,
          3.282828282828283,
          3.3333333333333335,
          3.3838383838383836,
          3.4343434343434343,
          3.484848484848485,
          3.5353535353535355,
          3.5858585858585856,
          3.6363636363636362,
          3.686868686868687,
          3.7373737373737375,
          3.7878787878787876,
          3.8383838383838382,
          3.888888888888889,
          3.9393939393939394,
          3.9898989898989896,
          4.040404040404041,
          4.090909090909091,
          4.141414141414141,
          4.191919191919192,
          4.242424242424242,
          4.292929292929293,
          4.343434343434343,
          4.393939393939394,
          4.444444444444445,
          4.494949494949495,
          4.545454545454545,
          4.595959595959596,
          4.646464646464646,
          4.696969696969697,
          4.747474747474747,
          4.797979797979798,
          4.848484848484849,
          4.898989898989899,
          4.94949494949495,
          5
         ],
         "y": [
          1,
          1.0492425530686933,
          1.0960116417722785,
          1.1403845618721653,
          1.1824386091297632,
          1.2222510793064818,
          1.259899268163731,
          1.29546047146292,
          1.3290119849654591,
          1.3606311044327573,
          1.3903951256262246,
          1.4183813443072704,
          1.444667056237304,
          1.469329557177736,
          1.4924461428899751,
          1.5140941091354314,
          1.5343507516755146,
          1.553293366271634,
          1.5709992486851991,
          1.5875456946776199,
          1.6030100000103062,
          1.617469460444667,
          1.6310013717421126,
          1.6436830296640519,
          1.6555917299718952,
          1.6668047684270517,
          1.6773994407909316,
          1.6874530428249437,
          1.697042870290498,
          1.7062462189490044,
          1.7151403845618722,
          1.723802662890511,
          1.7323103496963308,
          1.7407407407407407,
          1.7491711317851508,
          1.7576788185909704,
          1.7663410969196094,
          1.775235262532477,
          1.7844386111909833,
          1.794028438656538,
          1.8040820406905502,
          1.8146767130544297,
          1.8258897515095862,
          1.8377984518174297,
          1.850480109739369,
          1.8640120210368145,
          1.8784714814711752,
          1.8939357868038615,
          1.9104822327962825,
          1.928188115209848,
          1.9471307298059668,
          1.96738737234605,
          1.9890353385915065,
          2.012151924303746,
          2.0368144252441773,
          2.0631001371742115,
          2.091086355855257,
          2.1208503770487237,
          2.152469496516022,
          2.1860210100185617,
          2.2215822133177507,
          2.259230402175,
          2.2990428723517184,
          2.341096919609316,
          2.3854698397092036,
          2.432238928412788,
          2.481481481481482,
          2.5332747946766925,
          2.5876961637598317,
          2.644822884492306,
          2.7047322526355284,
          2.7675015639509057,
          2.83320811419985,
          2.90192919914377,
          2.973742114544073,
          3.0487241561621725,
          3.126952619759476,
          3.2085048010973938,
          3.2934579959373353,
          3.3818895000407094,
          3.4738766091689275,
          3.569496619083395,
          3.668826825545528,
          3.7719445243167327,
          3.8789270111584164,
          3.989851581831994,
          4.10479553209887,
          4.223836157720455,
          4.347050754458163,
          4.474516618073398,
          4.6063110443275725,
          4.742511328982098,
          4.883194767798378,
          5.028438656537832,
          5.178320290961858,
          5.332916966831872,
          5.492305979909287,
          5.656564625955505,
          5.825770200731942,
          6
         ]
        }
       ],
       "layout": {
        "autosize": true,
        "template": {
         "data": {
          "bar": [
           {
            "error_x": {
             "color": "#2a3f5f"
            },
            "error_y": {
             "color": "#2a3f5f"
            },
            "marker": {
             "line": {
              "color": "#E5ECF6",
              "width": 0.5
             },
             "pattern": {
              "fillmode": "overlay",
              "size": 10,
              "solidity": 0.2
             }
            },
            "type": "bar"
           }
          ],
          "barpolar": [
           {
            "marker": {
             "line": {
              "color": "#E5ECF6",
              "width": 0.5
             },
             "pattern": {
              "fillmode": "overlay",
              "size": 10,
              "solidity": 0.2
             }
            },
            "type": "barpolar"
           }
          ],
          "carpet": [
           {
            "aaxis": {
             "endlinecolor": "#2a3f5f",
             "gridcolor": "white",
             "linecolor": "white",
             "minorgridcolor": "white",
             "startlinecolor": "#2a3f5f"
            },
            "baxis": {
             "endlinecolor": "#2a3f5f",
             "gridcolor": "white",
             "linecolor": "white",
             "minorgridcolor": "white",
             "startlinecolor": "#2a3f5f"
            },
            "type": "carpet"
           }
          ],
          "choropleth": [
           {
            "colorbar": {
             "outlinewidth": 0,
             "ticks": ""
            },
            "type": "choropleth"
           }
          ],
          "contour": [
           {
            "colorbar": {
             "outlinewidth": 0,
             "ticks": ""
            },
            "colorscale": [
             [
              0,
              "#0d0887"
             ],
             [
              0.1111111111111111,
              "#46039f"
             ],
             [
              0.2222222222222222,
              "#7201a8"
             ],
             [
              0.3333333333333333,
              "#9c179e"
             ],
             [
              0.4444444444444444,
              "#bd3786"
             ],
             [
              0.5555555555555556,
              "#d8576b"
             ],
             [
              0.6666666666666666,
              "#ed7953"
             ],
             [
              0.7777777777777778,
              "#fb9f3a"
             ],
             [
              0.8888888888888888,
              "#fdca26"
             ],
             [
              1,
              "#f0f921"
             ]
            ],
            "type": "contour"
           }
          ],
          "contourcarpet": [
           {
            "colorbar": {
             "outlinewidth": 0,
             "ticks": ""
            },
            "type": "contourcarpet"
           }
          ],
          "heatmap": [
           {
            "colorbar": {
             "outlinewidth": 0,
             "ticks": ""
            },
            "colorscale": [
             [
              0,
              "#0d0887"
             ],
             [
              0.1111111111111111,
              "#46039f"
             ],
             [
              0.2222222222222222,
              "#7201a8"
             ],
             [
              0.3333333333333333,
              "#9c179e"
             ],
             [
              0.4444444444444444,
              "#bd3786"
             ],
             [
              0.5555555555555556,
              "#d8576b"
             ],
             [
              0.6666666666666666,
              "#ed7953"
             ],
             [
              0.7777777777777778,
              "#fb9f3a"
             ],
             [
              0.8888888888888888,
              "#fdca26"
             ],
             [
              1,
              "#f0f921"
             ]
            ],
            "type": "heatmap"
           }
          ],
          "heatmapgl": [
           {
            "colorbar": {
             "outlinewidth": 0,
             "ticks": ""
            },
            "colorscale": [
             [
              0,
              "#0d0887"
             ],
             [
              0.1111111111111111,
              "#46039f"
             ],
             [
              0.2222222222222222,
              "#7201a8"
             ],
             [
              0.3333333333333333,
              "#9c179e"
             ],
             [
              0.4444444444444444,
              "#bd3786"
             ],
             [
              0.5555555555555556,
              "#d8576b"
             ],
             [
              0.6666666666666666,
              "#ed7953"
             ],
             [
              0.7777777777777778,
              "#fb9f3a"
             ],
             [
              0.8888888888888888,
              "#fdca26"
             ],
             [
              1,
              "#f0f921"
             ]
            ],
            "type": "heatmapgl"
           }
          ],
          "histogram": [
           {
            "marker": {
             "pattern": {
              "fillmode": "overlay",
              "size": 10,
              "solidity": 0.2
             }
            },
            "type": "histogram"
           }
          ],
          "histogram2d": [
           {
            "colorbar": {
             "outlinewidth": 0,
             "ticks": ""
            },
            "colorscale": [
             [
              0,
              "#0d0887"
             ],
             [
              0.1111111111111111,
              "#46039f"
             ],
             [
              0.2222222222222222,
              "#7201a8"
             ],
             [
              0.3333333333333333,
              "#9c179e"
             ],
             [
              0.4444444444444444,
              "#bd3786"
             ],
             [
              0.5555555555555556,
              "#d8576b"
             ],
             [
              0.6666666666666666,
              "#ed7953"
             ],
             [
              0.7777777777777778,
              "#fb9f3a"
             ],
             [
              0.8888888888888888,
              "#fdca26"
             ],
             [
              1,
              "#f0f921"
             ]
            ],
            "type": "histogram2d"
           }
          ],
          "histogram2dcontour": [
           {
            "colorbar": {
             "outlinewidth": 0,
             "ticks": ""
            },
            "colorscale": [
             [
              0,
              "#0d0887"
             ],
             [
              0.1111111111111111,
              "#46039f"
             ],
             [
              0.2222222222222222,
              "#7201a8"
             ],
             [
              0.3333333333333333,
              "#9c179e"
             ],
             [
              0.4444444444444444,
              "#bd3786"
             ],
             [
              0.5555555555555556,
              "#d8576b"
             ],
             [
              0.6666666666666666,
              "#ed7953"
             ],
             [
              0.7777777777777778,
              "#fb9f3a"
             ],
             [
              0.8888888888888888,
              "#fdca26"
             ],
             [
              1,
              "#f0f921"
             ]
            ],
            "type": "histogram2dcontour"
           }
          ],
          "mesh3d": [
           {
            "colorbar": {
             "outlinewidth": 0,
             "ticks": ""
            },
            "type": "mesh3d"
           }
          ],
          "parcoords": [
           {
            "line": {
             "colorbar": {
              "outlinewidth": 0,
              "ticks": ""
             }
            },
            "type": "parcoords"
           }
          ],
          "pie": [
           {
            "automargin": true,
            "type": "pie"
           }
          ],
          "scatter": [
           {
            "fillpattern": {
             "fillmode": "overlay",
             "size": 10,
             "solidity": 0.2
            },
            "type": "scatter"
           }
          ],
          "scatter3d": [
           {
            "line": {
             "colorbar": {
              "outlinewidth": 0,
              "ticks": ""
             }
            },
            "marker": {
             "colorbar": {
              "outlinewidth": 0,
              "ticks": ""
             }
            },
            "type": "scatter3d"
           }
          ],
          "scattercarpet": [
           {
            "marker": {
             "colorbar": {
              "outlinewidth": 0,
              "ticks": ""
             }
            },
            "type": "scattercarpet"
           }
          ],
          "scattergeo": [
           {
            "marker": {
             "colorbar": {
              "outlinewidth": 0,
              "ticks": ""
             }
            },
            "type": "scattergeo"
           }
          ],
          "scattergl": [
           {
            "marker": {
             "colorbar": {
              "outlinewidth": 0,
              "ticks": ""
             }
            },
            "type": "scattergl"
           }
          ],
          "scattermapbox": [
           {
            "marker": {
             "colorbar": {
              "outlinewidth": 0,
              "ticks": ""
             }
            },
            "type": "scattermapbox"
           }
          ],
          "scatterpolar": [
           {
            "marker": {
             "colorbar": {
              "outlinewidth": 0,
              "ticks": ""
             }
            },
            "type": "scatterpolar"
           }
          ],
          "scatterpolargl": [
           {
            "marker": {
             "colorbar": {
              "outlinewidth": 0,
              "ticks": ""
             }
            },
            "type": "scatterpolargl"
           }
          ],
          "scatterternary": [
           {
            "marker": {
             "colorbar": {
              "outlinewidth": 0,
              "ticks": ""
             }
            },
            "type": "scatterternary"
           }
          ],
          "surface": [
           {
            "colorbar": {
             "outlinewidth": 0,
             "ticks": ""
            },
            "colorscale": [
             [
              0,
              "#0d0887"
             ],
             [
              0.1111111111111111,
              "#46039f"
             ],
             [
              0.2222222222222222,
              "#7201a8"
             ],
             [
              0.3333333333333333,
              "#9c179e"
             ],
             [
              0.4444444444444444,
              "#bd3786"
             ],
             [
              0.5555555555555556,
              "#d8576b"
             ],
             [
              0.6666666666666666,
              "#ed7953"
             ],
             [
              0.7777777777777778,
              "#fb9f3a"
             ],
             [
              0.8888888888888888,
              "#fdca26"
             ],
             [
              1,
              "#f0f921"
             ]
            ],
            "type": "surface"
           }
          ],
          "table": [
           {
            "cells": {
             "fill": {
              "color": "#EBF0F8"
             },
             "line": {
              "color": "white"
             }
            },
            "header": {
             "fill": {
              "color": "#C8D4E3"
             },
             "line": {
              "color": "white"
             }
            },
            "type": "table"
           }
          ]
         },
         "layout": {
          "annotationdefaults": {
           "arrowcolor": "#2a3f5f",
           "arrowhead": 0,
           "arrowwidth": 1
          },
          "autotypenumbers": "strict",
          "coloraxis": {
           "colorbar": {
            "outlinewidth": 0,
            "ticks": ""
           }
          },
          "colorscale": {
           "diverging": [
            [
             0,
             "#8e0152"
            ],
            [
             0.1,
             "#c51b7d"
            ],
            [
             0.2,
             "#de77ae"
            ],
            [
             0.3,
             "#f1b6da"
            ],
            [
             0.4,
             "#fde0ef"
            ],
            [
             0.5,
             "#f7f7f7"
            ],
            [
             0.6,
             "#e6f5d0"
            ],
            [
             0.7,
             "#b8e186"
            ],
            [
             0.8,
             "#7fbc41"
            ],
            [
             0.9,
             "#4d9221"
            ],
            [
             1,
             "#276419"
            ]
           ],
           "sequential": [
            [
             0,
             "#0d0887"
            ],
            [
             0.1111111111111111,
             "#46039f"
            ],
            [
             0.2222222222222222,
             "#7201a8"
            ],
            [
             0.3333333333333333,
             "#9c179e"
            ],
            [
             0.4444444444444444,
             "#bd3786"
            ],
            [
             0.5555555555555556,
             "#d8576b"
            ],
            [
             0.6666666666666666,
             "#ed7953"
            ],
            [
             0.7777777777777778,
             "#fb9f3a"
            ],
            [
             0.8888888888888888,
             "#fdca26"
            ],
            [
             1,
             "#f0f921"
            ]
           ],
           "sequentialminus": [
            [
             0,
             "#0d0887"
            ],
            [
             0.1111111111111111,
             "#46039f"
            ],
            [
             0.2222222222222222,
             "#7201a8"
            ],
            [
             0.3333333333333333,
             "#9c179e"
            ],
            [
             0.4444444444444444,
             "#bd3786"
            ],
            [
             0.5555555555555556,
             "#d8576b"
            ],
            [
             0.6666666666666666,
             "#ed7953"
            ],
            [
             0.7777777777777778,
             "#fb9f3a"
            ],
            [
             0.8888888888888888,
             "#fdca26"
            ],
            [
             1,
             "#f0f921"
            ]
           ]
          },
          "colorway": [
           "#636efa",
           "#EF553B",
           "#00cc96",
           "#ab63fa",
           "#FFA15A",
           "#19d3f3",
           "#FF6692",
           "#B6E880",
           "#FF97FF",
           "#FECB52"
          ],
          "font": {
           "color": "#2a3f5f"
          },
          "geo": {
           "bgcolor": "white",
           "lakecolor": "white",
           "landcolor": "#E5ECF6",
           "showlakes": true,
           "showland": true,
           "subunitcolor": "white"
          },
          "hoverlabel": {
           "align": "left"
          },
          "hovermode": "closest",
          "mapbox": {
           "style": "light"
          },
          "paper_bgcolor": "white",
          "plot_bgcolor": "#E5ECF6",
          "polar": {
           "angularaxis": {
            "gridcolor": "white",
            "linecolor": "white",
            "ticks": ""
           },
           "bgcolor": "#E5ECF6",
           "radialaxis": {
            "gridcolor": "white",
            "linecolor": "white",
            "ticks": ""
           }
          },
          "scene": {
           "xaxis": {
            "backgroundcolor": "#E5ECF6",
            "gridcolor": "white",
            "gridwidth": 2,
            "linecolor": "white",
            "showbackground": true,
            "ticks": "",
            "zerolinecolor": "white"
           },
           "yaxis": {
            "backgroundcolor": "#E5ECF6",
            "gridcolor": "white",
            "gridwidth": 2,
            "linecolor": "white",
            "showbackground": true,
            "ticks": "",
            "zerolinecolor": "white"
           },
           "zaxis": {
            "backgroundcolor": "#E5ECF6",
            "gridcolor": "white",
            "gridwidth": 2,
            "linecolor": "white",
            "showbackground": true,
            "ticks": "",
            "zerolinecolor": "white"
           }
          },
          "shapedefaults": {
           "line": {
            "color": "#2a3f5f"
           }
          },
          "ternary": {
           "aaxis": {
            "gridcolor": "white",
            "linecolor": "white",
            "ticks": ""
           },
           "baxis": {
            "gridcolor": "white",
            "linecolor": "white",
            "ticks": ""
           },
           "bgcolor": "#E5ECF6",
           "caxis": {
            "gridcolor": "white",
            "linecolor": "white",
            "ticks": ""
           }
          },
          "title": {
           "x": 0.05
          },
          "xaxis": {
           "automargin": true,
           "gridcolor": "white",
           "linecolor": "white",
           "ticks": "",
           "title": {
            "standoff": 15
           },
           "zerolinecolor": "white",
           "zerolinewidth": 2
          },
          "yaxis": {
           "automargin": true,
           "gridcolor": "white",
           "linecolor": "white",
           "ticks": "",
           "title": {
            "standoff": 15
           },
           "zerolinecolor": "white",
           "zerolinewidth": 2
          }
         }
        },
        "title": {
         "text": "Zwei Partitionen von Punkten, die durch ein Polynom dritten Grades trennbar sind"
        },
        "xaxis": {
         "range": [
          0,
          5
         ],
         "title": {
          "text": "x"
         },
         "type": "linear"
        },
        "yaxis": {
         "range": [
          0,
          5
         ],
         "title": {
          "text": "y"
         },
         "type": "linear"
        }
       }
      },
      "image/png": "[encoded data removed]",
      "text/html": [
       "<div>                            <div id=\"9066b59d-1b2f-472d-b05e-c6ad8440f837\" class=\"plotly-graph-div\" style=\"height:700px; width:100%;\"></div>            <script type=\"text/javascript\">                require([\"plotly\"], function(Plotly) {                    window.PLOTLYENV=window.PLOTLYENV || {};                                    if (document.getElementById(\"9066b59d-1b2f-472d-b05e-c6ad8440f837\")) {                    Plotly.newPlot(                        \"9066b59d-1b2f-472d-b05e-c6ad8440f837\",                        [{\"marker\":{\"color\":\"blue\"},\"mode\":\"markers\",\"name\":\"Partition 1\",\"x\":[4.75357153204958,3.6599697090570253,2.993292420985183,4.330880728874676,3.540362888980227,0.10292247147901223,4.8495492608099715,2.1597250932105787,1.4561457009902097,3.0592644736118975,1.4607232426760908,3.925879806965068,2.9620728443102124,0.23225206359998862,3.0377242595071916,0.8526206184364576,4.7444276862666666,4.828160165372797,0.48836057003191935,4.546602010393911,1.2938999080000846,3.31261142176991,2.7335513967163982,4.847923138822793,3.8756641168055728,4.697494707820946,4.474136752138244,4.609371175115584,1.3567451588694794,4.143687545759647,1.7837666334679465,1.4046725484369038,2.7134804157912424,4.010984903770199,0.3727532183988541,4.9344346830025865,0.993578407670862,0.027610585618011996,4.0773071422741705,3.6450358402049368],\"y\":[3.1164906341377896,1.654490124263246,0.3177917514301182,3.1877873567760657,2.3610746258097466,0.5979712296915085,3.566223936114975,0.12709563372047594,0.5394571349665223,0.15714592843367126,1.5717799053816335,1.2464611457443748,1.1439908274581123,0.38489954914396496,1.4487572645688402,0.8061064362700221,4.040601897822085,3.1670187825521174,0.9328502944301792,0.5502596226383838,1.1396758127097084,2.1355389431312815,0.03476065265595352,2.087055015743895,1.1105390523536514,0.599326836668414,1.6880758570181398,1.6160146601037761,1.2589114791268208,2.4862425294619275,1.5043915490838482,1.424202471887338,0.18443473677266398,2.5133951161443076,0.25739375624994676,1.3932323211830573,1.197809453334862,0.7244743604561155,2.447263801387815,1.2102763575575022],\"type\":\"scatter\"},{\"marker\":{\"color\":\"red\"},\"mode\":\"markers\",\"name\":\"Partition 2\",\"x\":[1.838915663596266,3.1615291529678973,3.1676485538044736,4.17651247794619,1.6039003248586792,0.9325925519992712,0.20387570777381958,2.954464715941209,0.08293914463928076,2.560465291496405,0.8718321450249572,3.45468869051233,1.933676731502687,1.7053317552512925,0.5673676062029454,1.289708138575778,3.299920230170895,2.7760040579973118,0.46551383902949606,3.16550728636634,1.6951489552435035,1.7460478730633044,3.629778394351197,3.899377729288119,3.2101582307714387,0.42069982497524416,0.8081435704730688,3.0321452982979498,0.5073577143301605,3.317508845540279,0.025307919231093434,0.8040402570874933,3.259806297513003,1.121346547302799,1.1862454374840004,1.6269984907963386,3.2481644952360735,2.841543016677358,0.4683738391404624,1.8385790152971677],\"y\":[4.702292921764571,4.769642885012937,4.574321951102243,4.641592812938627,2.1409207415865716,4.833274095218348,4.818099885446264,4.265047277336801,1.9254886430096263,4.255683357584284,2.784006312291751,4.680773870803905,3.480148983374865,3.075036133495849,4.950269250521316,4.386865359639777,3.703843088771022,3.5124204199355464,4.046805777392568,4.566202762782357,2.556711994304689,2.507581473435998,3.9914758948338758,3.978963347180505,4.450026709087831,1.689975784257679,1.87791476319972,2.89140070498087,2.3279900906623006,2.713223173537883,1.432706260641422,2.9541663028450538,4.113002803298292,1.8009532070563146,2.611216300274022,3.849967765493054,3.114452379095001,2.65677315784074,2.7031756080505325,3.187149507491033],\"type\":\"scatter\"},{\"line\":{\"color\":\"green\"},\"mode\":\"lines\",\"name\":\"Trennpolynom y = 0.1x^3 - 0.5x^2 + x + 1\",\"x\":[0.0,0.050505050505050504,0.10101010101010101,0.15151515151515152,0.20202020202020202,0.25252525252525254,0.30303030303030304,0.35353535353535354,0.40404040404040403,0.45454545454545453,0.5050505050505051,0.5555555555555556,0.6060606060606061,0.6565656565656566,0.7070707070707071,0.7575757575757576,0.8080808080808081,0.8585858585858586,0.9090909090909091,0.9595959595959596,1.0101010101010102,1.0606060606060606,1.1111111111111112,1.1616161616161615,1.2121212121212122,1.2626262626262625,1.3131313131313131,1.3636363636363635,1.4141414141414141,1.4646464646464645,1.5151515151515151,1.5656565656565655,1.6161616161616161,1.6666666666666667,1.7171717171717171,1.7676767676767677,1.8181818181818181,1.8686868686868687,1.9191919191919191,1.9696969696969697,2.0202020202020203,2.0707070707070705,2.121212121212121,2.1717171717171717,2.2222222222222223,2.2727272727272725,2.323232323232323,2.3737373737373737,2.4242424242424243,2.474747474747475,2.525252525252525,2.5757575757575757,2.6262626262626263,2.676767676767677,2.727272727272727,2.7777777777777777,2.8282828282828283,2.878787878787879,2.929292929292929,2.9797979797979797,3.0303030303030303,3.080808080808081,3.131313131313131,3.1818181818181817,3.2323232323232323,3.282828282828283,3.3333333333333335,3.3838383838383836,3.4343434343434343,3.484848484848485,3.5353535353535355,3.5858585858585856,3.6363636363636362,3.686868686868687,3.7373737373737375,3.7878787878787876,3.8383838383838382,3.888888888888889,3.9393939393939394,3.9898989898989896,4.040404040404041,4.090909090909091,4.141414141414141,4.191919191919192,4.242424242424242,4.292929292929293,4.343434343434343,4.393939393939394,4.444444444444445,4.494949494949495,4.545454545454545,4.595959595959596,4.646464646464646,4.696969696969697,4.747474747474747,4.797979797979798,4.848484848484849,4.898989898989899,4.94949494949495,5.0],\"y\":[1.0,1.0492425530686933,1.0960116417722785,1.1403845618721653,1.1824386091297632,1.2222510793064818,1.259899268163731,1.29546047146292,1.3290119849654591,1.3606311044327573,1.3903951256262246,1.4183813443072704,1.444667056237304,1.469329557177736,1.4924461428899751,1.5140941091354314,1.5343507516755146,1.553293366271634,1.5709992486851991,1.5875456946776199,1.6030100000103062,1.617469460444667,1.6310013717421126,1.6436830296640519,1.6555917299718952,1.6668047684270517,1.6773994407909316,1.6874530428249437,1.697042870290498,1.7062462189490044,1.7151403845618722,1.723802662890511,1.7323103496963308,1.7407407407407407,1.7491711317851508,1.7576788185909704,1.7663410969196094,1.775235262532477,1.7844386111909833,1.794028438656538,1.8040820406905502,1.8146767130544297,1.8258897515095862,1.8377984518174297,1.850480109739369,1.8640120210368145,1.8784714814711752,1.8939357868038615,1.9104822327962825,1.928188115209848,1.9471307298059668,1.96738737234605,1.9890353385915065,2.012151924303746,2.0368144252441773,2.0631001371742115,2.091086355855257,2.1208503770487237,2.152469496516022,2.1860210100185617,2.2215822133177507,2.259230402175,2.2990428723517184,2.341096919609316,2.3854698397092036,2.432238928412788,2.481481481481482,2.5332747946766925,2.5876961637598317,2.644822884492306,2.7047322526355284,2.7675015639509057,2.83320811419985,2.90192919914377,2.973742114544073,3.0487241561621725,3.126952619759476,3.2085048010973938,3.2934579959373353,3.3818895000407094,3.4738766091689275,3.569496619083395,3.668826825545528,3.7719445243167327,3.8789270111584164,3.989851581831994,4.10479553209887,4.223836157720455,4.347050754458163,4.474516618073398,4.6063110443275725,4.742511328982098,4.883194767798378,5.028438656537832,5.178320290961858,5.332916966831872,5.492305979909287,5.656564625955505,5.825770200731942,6.0],\"type\":\"scatter\"}],                        {\"template\":{\"data\":{\"histogram2dcontour\":[{\"type\":\"histogram2dcontour\",\"colorbar\":{\"outlinewidth\":0,\"ticks\":\"\"},\"colorscale\":[[0.0,\"#0d0887\"],[0.1111111111111111,\"#46039f\"],[0.2222222222222222,\"#7201a8\"],[0.3333333333333333,\"#9c179e\"],[0.4444444444444444,\"#bd3786\"],[0.5555555555555556,\"#d8576b\"],[0.6666666666666666,\"#ed7953\"],[0.7777777777777778,\"#fb9f3a\"],[0.8888888888888888,\"#fdca26\"],[1.0,\"#f0f921\"]]}],\"choropleth\":[{\"type\":\"choropleth\",\"colorbar\":{\"outlinewidth\":0,\"ticks\":\"\"}}],\"histogram2d\":[{\"type\":\"histogram2d\",\"colorbar\":{\"outlinewidth\":0,\"ticks\":\"\"},\"colorscale\":[[0.0,\"#0d0887\"],[0.1111111111111111,\"#46039f\"],[0.2222222222222222,\"#7201a8\"],[0.3333333333333333,\"#9c179e\"],[0.4444444444444444,\"#bd3786\"],[0.5555555555555556,\"#d8576b\"],[0.6666666666666666,\"#ed7953\"],[0.7777777777777778,\"#fb9f3a\"],[0.8888888888888888,\"#fdca26\"],[1.0,\"#f0f921\"]]}],\"heatmap\":[{\"type\":\"heatmap\",\"colorbar\":{\"outlinewidth\":0,\"ticks\":\"\"},\"colorscale\":[[0.0,\"#0d0887\"],[0.1111111111111111,\"#46039f\"],[0.2222222222222222,\"#7201a8\"],[0.3333333333333333,\"#9c179e\"],[0.4444444444444444,\"#bd3786\"],[0.5555555555555556,\"#d8576b\"],[0.6666666666666666,\"#ed7953\"],[0.7777777777777778,\"#fb9f3a\"],[0.8888888888888888,\"#fdca26\"],[1.0,\"#f0f921\"]]}],\"heatmapgl\":[{\"type\":\"heatmapgl\",\"colorbar\":{\"outlinewidth\":0,\"ticks\":\"\"},\"colorscale\":[[0.0,\"#0d0887\"],[0.1111111111111111,\"#46039f\"],[0.2222222222222222,\"#7201a8\"],[0.3333333333333333,\"#9c179e\"],[0.4444444444444444,\"#bd3786\"],[0.5555555555555556,\"#d8576b\"],[0.6666666666666666,\"#ed7953\"],[0.7777777777777778,\"#fb9f3a\"],[0.8888888888888888,\"#fdca26\"],[1.0,\"#f0f921\"]]}],\"contourcarpet\":[{\"type\":\"contourcarpet\",\"colorbar\":{\"outlinewidth\":0,\"ticks\":\"\"}}],\"contour\":[{\"type\":\"contour\",\"colorbar\":{\"outlinewidth\":0,\"ticks\":\"\"},\"colorscale\":[[0.0,\"#0d0887\"],[0.1111111111111111,\"#46039f\"],[0.2222222222222222,\"#7201a8\"],[0.3333333333333333,\"#9c179e\"],[0.4444444444444444,\"#bd3786\"],[0.5555555555555556,\"#d8576b\"],[0.6666666666666666,\"#ed7953\"],[0.7777777777777778,\"#fb9f3a\"],[0.8888888888888888,\"#fdca26\"],[1.0,\"#f0f921\"]]}],\"surface\":[{\"type\":\"surface\",\"colorbar\":{\"outlinewidth\":0,\"ticks\":\"\"},\"colorscale\":[[0.0,\"#0d0887\"],[0.1111111111111111,\"#46039f\"],[0.2222222222222222,\"#7201a8\"],[0.3333333333333333,\"#9c179e\"],[0.4444444444444444,\"#bd3786\"],[0.5555555555555556,\"#d8576b\"],[0.6666666666666666,\"#ed7953\"],[0.7777777777777778,\"#fb9f3a\"],[0.8888888888888888,\"#fdca26\"],[1.0,\"#f0f921\"]]}],\"mesh3d\":[{\"type\":\"mesh3d\",\"colorbar\":{\"outlinewidth\":0,\"ticks\":\"\"}}],\"scatter\":[{\"fillpattern\":{\"fillmode\":\"overlay\",\"size\":10,\"solidity\":0.2},\"type\":\"scatter\"}],\"parcoords\":[{\"type\":\"parcoords\",\"line\":{\"colorbar\":{\"outlinewidth\":0,\"ticks\":\"\"}}}],\"scatterpolargl\":[{\"type\":\"scatterpolargl\",\"marker\":{\"colorbar\":{\"outlinewidth\":0,\"ticks\":\"\"}}}],\"bar\":[{\"error_x\":{\"color\":\"#2a3f5f\"},\"error_y\":{\"color\":\"#2a3f5f\"},\"marker\":{\"line\":{\"color\":\"#E5ECF6\",\"width\":0.5},\"pattern\":{\"fillmode\":\"overlay\",\"size\":10,\"solidity\":0.2}},\"type\":\"bar\"}],\"scattergeo\":[{\"type\":\"scattergeo\",\"marker\":{\"colorbar\":{\"outlinewidth\":0,\"ticks\":\"\"}}}],\"scatterpolar\":[{\"type\":\"scatterpolar\",\"marker\":{\"colorbar\":{\"outlinewidth\":0,\"ticks\":\"\"}}}],\"histogram\":[{\"marker\":{\"pattern\":{\"fillmode\":\"overlay\",\"size\":10,\"solidity\":0.2}},\"type\":\"histogram\"}],\"scattergl\":[{\"type\":\"scattergl\",\"marker\":{\"colorbar\":{\"outlinewidth\":0,\"ticks\":\"\"}}}],\"scatter3d\":[{\"type\":\"scatter3d\",\"line\":{\"colorbar\":{\"outlinewidth\":0,\"ticks\":\"\"}},\"marker\":{\"colorbar\":{\"outlinewidth\":0,\"ticks\":\"\"}}}],\"scattermapbox\":[{\"type\":\"scattermapbox\",\"marker\":{\"colorbar\":{\"outlinewidth\":0,\"ticks\":\"\"}}}],\"scatterternary\":[{\"type\":\"scatterternary\",\"marker\":{\"colorbar\":{\"outlinewidth\":0,\"ticks\":\"\"}}}],\"scattercarpet\":[{\"type\":\"scattercarpet\",\"marker\":{\"colorbar\":{\"outlinewidth\":0,\"ticks\":\"\"}}}],\"carpet\":[{\"aaxis\":{\"endlinecolor\":\"#2a3f5f\",\"gridcolor\":\"white\",\"linecolor\":\"white\",\"minorgridcolor\":\"white\",\"startlinecolor\":\"#2a3f5f\"},\"baxis\":{\"endlinecolor\":\"#2a3f5f\",\"gridcolor\":\"white\",\"linecolor\":\"white\",\"minorgridcolor\":\"white\",\"startlinecolor\":\"#2a3f5f\"},\"type\":\"carpet\"}],\"table\":[{\"cells\":{\"fill\":{\"color\":\"#EBF0F8\"},\"line\":{\"color\":\"white\"}},\"header\":{\"fill\":{\"color\":\"#C8D4E3\"},\"line\":{\"color\":\"white\"}},\"type\":\"table\"}],\"barpolar\":[{\"marker\":{\"line\":{\"color\":\"#E5ECF6\",\"width\":0.5},\"pattern\":{\"fillmode\":\"overlay\",\"size\":10,\"solidity\":0.2}},\"type\":\"barpolar\"}],\"pie\":[{\"automargin\":true,\"type\":\"pie\"}]},\"layout\":{\"autotypenumbers\":\"strict\",\"colorway\":[\"#636efa\",\"#EF553B\",\"#00cc96\",\"#ab63fa\",\"#FFA15A\",\"#19d3f3\",\"#FF6692\",\"#B6E880\",\"#FF97FF\",\"#FECB52\"],\"font\":{\"color\":\"#2a3f5f\"},\"hovermode\":\"closest\",\"hoverlabel\":{\"align\":\"left\"},\"paper_bgcolor\":\"white\",\"plot_bgcolor\":\"#E5ECF6\",\"polar\":{\"bgcolor\":\"#E5ECF6\",\"angularaxis\":{\"gridcolor\":\"white\",\"linecolor\":\"white\",\"ticks\":\"\"},\"radialaxis\":{\"gridcolor\":\"white\",\"linecolor\":\"white\",\"ticks\":\"\"}},\"ternary\":{\"bgcolor\":\"#E5ECF6\",\"aaxis\":{\"gridcolor\":\"white\",\"linecolor\":\"white\",\"ticks\":\"\"},\"baxis\":{\"gridcolor\":\"white\",\"linecolor\":\"white\",\"ticks\":\"\"},\"caxis\":{\"gridcolor\":\"white\",\"linecolor\":\"white\",\"ticks\":\"\"}},\"coloraxis\":{\"colorbar\":{\"outlinewidth\":0,\"ticks\":\"\"}},\"colorscale\":{\"sequential\":[[0.0,\"#0d0887\"],[0.1111111111111111,\"#46039f\"],[0.2222222222222222,\"#7201a8\"],[0.3333333333333333,\"#9c179e\"],[0.4444444444444444,\"#bd3786\"],[0.5555555555555556,\"#d8576b\"],[0.6666666666666666,\"#ed7953\"],[0.7777777777777778,\"#fb9f3a\"],[0.8888888888888888,\"#fdca26\"],[1.0,\"#f0f921\"]],\"sequentialminus\":[[0.0,\"#0d0887\"],[0.1111111111111111,\"#46039f\"],[0.2222222222222222,\"#7201a8\"],[0.3333333333333333,\"#9c179e\"],[0.4444444444444444,\"#bd3786\"],[0.5555555555555556,\"#d8576b\"],[0.6666666666666666,\"#ed7953\"],[0.7777777777777778,\"#fb9f3a\"],[0.8888888888888888,\"#fdca26\"],[1.0,\"#f0f921\"]],\"diverging\":[[0,\"#8e0152\"],[0.1,\"#c51b7d\"],[0.2,\"#de77ae\"],[0.3,\"#f1b6da\"],[0.4,\"#fde0ef\"],[0.5,\"#f7f7f7\"],[0.6,\"#e6f5d0\"],[0.7,\"#b8e186\"],[0.8,\"#7fbc41\"],[0.9,\"#4d9221\"],[1,\"#276419\"]]},\"xaxis\":{\"gridcolor\":\"white\",\"linecolor\":\"white\",\"ticks\":\"\",\"title\":{\"standoff\":15},\"zerolinecolor\":\"white\",\"automargin\":true,\"zerolinewidth\":2},\"yaxis\":{\"gridcolor\":\"white\",\"linecolor\":\"white\",\"ticks\":\"\",\"title\":{\"standoff\":15},\"zerolinecolor\":\"white\",\"automargin\":true,\"zerolinewidth\":2},\"scene\":{\"xaxis\":{\"backgroundcolor\":\"#E5ECF6\",\"gridcolor\":\"white\",\"linecolor\":\"white\",\"showbackground\":true,\"ticks\":\"\",\"zerolinecolor\":\"white\",\"gridwidth\":2},\"yaxis\":{\"backgroundcolor\":\"#E5ECF6\",\"gridcolor\":\"white\",\"linecolor\":\"white\",\"showbackground\":true,\"ticks\":\"\",\"zerolinecolor\":\"white\",\"gridwidth\":2},\"zaxis\":{\"backgroundcolor\":\"#E5ECF6\",\"gridcolor\":\"white\",\"linecolor\":\"white\",\"showbackground\":true,\"ticks\":\"\",\"zerolinecolor\":\"white\",\"gridwidth\":2}},\"shapedefaults\":{\"line\":{\"color\":\"#2a3f5f\"}},\"annotationdefaults\":{\"arrowcolor\":\"#2a3f5f\",\"arrowhead\":0,\"arrowwidth\":1},\"geo\":{\"bgcolor\":\"white\",\"landcolor\":\"#E5ECF6\",\"subunitcolor\":\"white\",\"showland\":true,\"showlakes\":true,\"lakecolor\":\"white\"},\"title\":{\"x\":0.05},\"mapbox\":{\"style\":\"light\"}}},\"xaxis\":{\"title\":{\"text\":\"x\"},\"range\":[0,5]},\"yaxis\":{\"title\":{\"text\":\"y\"},\"range\":[0,5]},\"title\":{\"text\":\"Zwei Partitionen von Punkten, die durch ein Polynom dritten Grades trennbar sind\"},\"height\":700},                        {\"responsive\": true}                    ).then(function(){\n",
       "                            \n",
       "var gd = document.getElementById('9066b59d-1b2f-472d-b05e-c6ad8440f837');\n",
       "var x = new MutationObserver(function (mutations, observer) {{\n",
       "        var display = window.getComputedStyle(gd).display;\n",
       "        if (!display || display === 'none') {{\n",
       "            console.log([gd, 'removed!']);\n",
       "            Plotly.purge(gd);\n",
       "            observer.disconnect();\n",
       "        }}\n",
       "}});\n",
       "\n",
       "// Listen for the removal of the full notebook cells\n",
       "var notebookContainer = gd.closest('#notebook-container');\n",
       "if (notebookContainer) {{\n",
       "    x.observe(notebookContainer, {childList: true});\n",
       "}}\n",
       "\n",
       "// Listen for the clearing of the current output cell\n",
       "var outputEl = gd.closest('.output');\n",
       "if (outputEl) {{\n",
       "    x.observe(outputEl, {childList: true});\n",
       "}}\n",
       "\n",
       "                        })                };                });            </script>        </div>"
      ]
     },
     "metadata": {},
     "output_type": "display_data"
    }
   ],
   "source": [
    "import numpy as np\n",
    "import plotly.graph_objects as go\n",
    "\n",
    "# Anzahl der Punkte\n",
    "n_points = 80\n",
    "n_partition = n_points // 2\n",
    "\n",
    "# Generiere Zufallspunkte zwischen 0 und 5 für beide Partitionen\n",
    "np.random.seed(42)\n",
    "\n",
    "# Polynomiale Trennungsfunktion: y = 0.1x^3 - 0.5x^2 + x + 1\n",
    "def polynomial(x):\n",
    "    return 0.1 * x**3 - 0.5 * x**2 + x + 1\n",
    "\n",
    "# Partition 1: Punkte unter dem Polynom\n",
    "x1 = np.random.uniform(0, 5, n_partition * 2)  # Mehr Punkte generieren, um genug gültige zu finden\n",
    "y1 = np.random.uniform(0, 5, n_partition * 2)\n",
    "mask1 = y1 < polynomial(x1)  # Bedingung für Partition 1\n",
    "x1, y1 = x1[mask1][:n_partition], y1[mask1][:n_partition]  # Auf 40 Punkte beschränken\n",
    "\n",
    "# Partition 2: Punkte über dem Polynom\n",
    "x2 = np.random.uniform(0, 5, n_partition * 2)  # Mehr Punkte generieren, um genug gültige zu finden\n",
    "y2 = np.random.uniform(0, 5, n_partition * 2)\n",
    "mask2 = y2 >= polynomial(x2)  # Bedingung für Partition 2\n",
    "x2, y2 = x2[mask2][:n_partition], y2[mask2][:n_partition]  # Auf 40 Punkte beschränken\n",
    "\n",
    "# Erstellen der Visualisierung mit plotly\n",
    "fig = go.Figure()\n",
    "\n",
    "# Punkte der ersten Partition\n",
    "fig.add_trace(go.Scatter(x=x1, y=y1, mode='markers', name='Partition 1', marker=dict(color='blue')))\n",
    "\n",
    "# Punkte der zweiten Partition\n",
    "fig.add_trace(go.Scatter(x=x2, y=y2, mode='markers', name='Partition 2', marker=dict(color='red')))\n",
    "\n",
    "# Zeichne das Trennungspolynom y = 0.1x^3 - 0.5x^2 + x + 1\n",
    "x_line = np.linspace(0, 5, 100)\n",
    "y_line = polynomial(x_line)\n",
    "fig.add_trace(go.Scatter(x=x_line, y=y_line, mode='lines', name='Trennpolynom y = 0.1x^3 - 0.5x^2 + x + 1', line=dict(color='green')))\n",
    "\n",
    "# Layout-Einstellungen\n",
    "fig.update_layout(\n",
    "    title='Zwei Partitionen von Punkten, die durch ein Polynom dritten Grades trennbar sind',\n",
    "    xaxis_title='x',\n",
    "    yaxis_title='y',\n",
    "    xaxis=dict(range=[0, 5]),\n",
    "    yaxis=dict(range=[0, 5]),\n",
    "    height = 700\n",
    ")\n",
    "\n",
    "# Visualisierung anzeigen\n",
    "fig.show()"
   ]
  },
  {
   "cell_type": "code",
   "execution_count": 10,
   "id": "9c4fd916-c8e3-40da-a7bf-ad4267ec5b54",
   "metadata": {},
   "outputs": [
    {
     "data": {
      "application/vnd.plotly.v1+json": {
       "config": {
        "plotlyServerURL": "https://plot.ly"
       },
       "data": [
        {
         "marker": {
          "color": "blue"
         },
         "mode": "markers",
         "name": "Partition 1",
         "type": "scatter",
         "x": [
          4.75357153204958,
          0.10292247147901223,
          4.8495492608099715,
          2.1597250932105787,
          1.4561457009902097,
          0.23225206359998862,
          0.8526206184364576,
          4.7444276862666666,
          4.828160165372797,
          0.48836057003191935,
          4.546602010393911,
          1.2938999080000846,
          4.847923138822793,
          4.697494707820946,
          4.474136752138244,
          4.609371175115584,
          1.3567451588694794,
          1.4046725484369038,
          0.3727532183988541,
          4.9344346830025865,
          0.993578407670862,
          0.027610585618011996,
          1.7923286427213632
         ],
         "y": [
          3.1164906341377896,
          0.5979712296915085,
          3.566223936114975,
          0.12709563372047594,
          0.5394571349665223,
          0.38489954914396496,
          0.8061064362700221,
          4.040601897822085,
          3.1670187825521174,
          0.9328502944301792,
          0.5502596226383838,
          1.1396758127097084,
          2.087055015743895,
          0.599326836668414,
          1.6880758570181398,
          1.6160146601037761,
          1.2589114791268208,
          1.424202471887338,
          0.25739375624994676,
          1.3932323211830573,
          1.197809453334862,
          0.7244743604561155,
          1.1881877199619983
         ]
        },
        {
         "marker": {
          "color": "red"
         },
         "mode": "markers",
         "name": "Partition 2",
         "type": "scatter",
         "x": [
          1.838915663596266,
          3.1615291529678973,
          3.1676485538044736,
          2.6788734203737925,
          4.17651247794619,
          1.6039003248586792,
          0.9325925519992712,
          0.20387570777381958,
          2.954464715941209,
          3.3878218092114123,
          0.08293914463928076,
          2.560465291496405,
          1.1324788759896898,
          3.2258639520472494,
          0.8718321450249572,
          3.45468869051233,
          1.933676731502687,
          1.7053317552512925,
          0.5673676062029454,
          1.289708138575778,
          3.299920230170895,
          4.0861110010060795,
          2.7760040579973118,
          2.6482528917800323,
          0.46551383902949606,
          3.16550728636634,
          1.6951489552435035,
          1.7460478730633044,
          3.629778394351197,
          3.899377729288119,
          3.2101582307714387,
          0.42069982497524416,
          0.8081435704730688,
          3.0321452982979498,
          0.5073577143301605,
          3.317508845540279,
          0.025307919231093434,
          0.8040402570874933,
          2.7436689468329307,
          3.459475988463466
         ],
         "y": [
          4.702292921764571,
          4.769642885012937,
          4.574321951102243,
          1.8507935012772219,
          4.641592812938627,
          2.1409207415865716,
          4.833274095218348,
          4.818099885446264,
          4.265047277336801,
          1.4722444603479286,
          1.9254886430096263,
          4.255683357584284,
          1.5846100257813882,
          0.8474637334304624,
          2.784006312291751,
          4.680773870803905,
          3.480148983374865,
          3.075036133495849,
          4.950269250521316,
          4.386865359639777,
          3.703843088771022,
          3.48507870497634,
          3.5124204199355464,
          1.7974557560987758,
          4.046805777392568,
          4.566202762782357,
          2.556711994304689,
          2.507581473435998,
          3.9914758948338758,
          3.978963347180505,
          4.450026709087831,
          1.689975784257679,
          1.87791476319972,
          2.89140070498087,
          2.3279900906623006,
          2.713223173537883,
          1.432706260641422,
          2.9541663028450538,
          0.15250124969524714,
          0.18674094374607209
         ]
        },
        {
         "line": {
          "color": "green"
         },
         "mode": "lines",
         "name": "Trennpolynom 5. Grades",
         "type": "scatter",
         "x": [
          0,
          0.050505050505050504,
          0.10101010101010101,
          0.15151515151515152,
          0.20202020202020202,
          0.25252525252525254,
          0.30303030303030304,
          0.35353535353535354,
          0.40404040404040403,
          0.45454545454545453,
          0.5050505050505051,
          0.5555555555555556,
          0.6060606060606061,
          0.6565656565656566,
          0.7070707070707071,
          0.7575757575757576,
          0.8080808080808081,
          0.8585858585858586,
          0.9090909090909091,
          0.9595959595959596,
          1.0101010101010102,
          1.0606060606060606,
          1.1111111111111112,
          1.1616161616161615,
          1.2121212121212122,
          1.2626262626262625,
          1.3131313131313131,
          1.3636363636363635,
          1.4141414141414141,
          1.4646464646464645,
          1.5151515151515151,
          1.5656565656565655,
          1.6161616161616161,
          1.6666666666666667,
          1.7171717171717171,
          1.7676767676767677,
          1.8181818181818181,
          1.8686868686868687,
          1.9191919191919191,
          1.9696969696969697,
          2.0202020202020203,
          2.0707070707070705,
          2.121212121212121,
          2.1717171717171717,
          2.2222222222222223,
          2.2727272727272725,
          2.323232323232323,
          2.3737373737373737,
          2.4242424242424243,
          2.474747474747475,
          2.525252525252525,
          2.5757575757575757,
          2.6262626262626263,
          2.676767676767677,
          2.727272727272727,
          2.7777777777777777,
          2.8282828282828283,
          2.878787878787879,
          2.929292929292929,
          2.9797979797979797,
          3.0303030303030303,
          3.080808080808081,
          3.131313131313131,
          3.1818181818181817,
          3.2323232323232323,
          3.282828282828283,
          3.3333333333333335,
          3.3838383838383836,
          3.4343434343434343,
          3.484848484848485,
          3.5353535353535355,
          3.5858585858585856,
          3.6363636363636362,
          3.686868686868687,
          3.7373737373737375,
          3.7878787878787876,
          3.8383838383838382,
          3.888888888888889,
          3.9393939393939394,
          3.9898989898989896,
          4.040404040404041,
          4.090909090909091,
          4.141414141414141,
          4.191919191919192,
          4.242424242424242,
          4.292929292929293,
          4.343434343434343,
          4.393939393939394,
          4.444444444444445,
          4.494949494949495,
          4.545454545454545,
          4.595959595959596,
          4.646464646464646,
          4.696969696969697,
          4.747474747474747,
          4.797979797979798,
          4.848484848484849,
          4.898989898989899,
          4.94949494949495,
          5
         ],
         "y": [
          1,
          1.0247919682519067,
          1.0488459816218736,
          1.072403418818357,
          1.0956627558927312,
          1.1187815378687487,
          1.1418783503720022,
          1.1650347912593864,
          1.1882974422485595,
          1.2116798405474043,
          1.2351644504834898,
          1.2587046351335331,
          1.282226627952861,
          1.3056315044048707,
          1.328797153590492,
          1.351580249877649,
          1.3738182245307213,
          1.395331237340005,
          1.415924148251175,
          1.435388488994747,
          1.4535044347155373,
          1.4700427756021257,
          1.484766888516317,
          1.4974347086226016,
          1.5078007010176186,
          1.5156178323596148,
          1.5206395424979093,
          1.5226217161023528,
          1.5213246542927894,
          1.5165150462685195,
          1.5079679409377593,
          1.495468718547105,
          1.4788150623109904,
          1.4578189300411524,
          1.432308525776091,
          1.4021302714105295,
          1.3671507783248784,
          1.327258819014695,
          1.2823672987201458,
          1.232415227055469,
          1.1773696896384327,
          1.117227819719799,
          1.052018769812789,
          0.9818056833225339,
          0.9066876661755503,
          0.8268017584491874,
          0.7423249060011017,
          0.6534759320987094,
          0.56051750904865,
          0.4637581298262552,
          0.36355407970499276,
          0.26031140788595253,
          0.15448789912728156,
          0.04659504537367298,
          -0.06279998261420183,
          -0.17307236363020229,
          -0.2835376543932846,
          -0.3934498179180146,
          -0.5019992518851257,
          -0.6083108170120488,
          -0.7114418654234531,
          -0.8103802690217827,
          -0.9040424478577875,
          -0.9912713985010928,
          -1.0708347224106909,
          -1.1414226543055208,
          -1.2016460905349762,
          -1.250034617449467,
          -1.2850345397709466,
          -1.3050069089634473,
          -1.3082255516036398,
          -1.2928750977513164,
          -1.2570490093200313,
          -1.1987476084475093,
          -1.1158761058662856,
          -1.0062426292742197,
          -0.8675562517050075,
          -0.6974250198987237,
          -0.49335398267240826,
          -0.25274321929054455,
          0.027114132164389737,
          0.3490338464213303,
          0.7159425826501353,
          1.130879856091127,
          1.5970000096843369,
          2.117574185699182,
          2.69599229736378,
          3.3357650004945643,
          4.040525665125603,
          4.814032347138029,
          5.6601697598897225,
          6.582951245844583,
          7.586520748201993,
          8.675154782526437,
          9.853264408376656,
          11.125397200935517,
          12.496239222639208,
          13.970616994806676,
          15.553499469269305,
          17.25
         ]
        }
       ],
       "layout": {
        "autosize": true,
        "template": {
         "data": {
          "bar": [
           {
            "error_x": {
             "color": "#2a3f5f"
            },
            "error_y": {
             "color": "#2a3f5f"
            },
            "marker": {
             "line": {
              "color": "#E5ECF6",
              "width": 0.5
             },
             "pattern": {
              "fillmode": "overlay",
              "size": 10,
              "solidity": 0.2
             }
            },
            "type": "bar"
           }
          ],
          "barpolar": [
           {
            "marker": {
             "line": {
              "color": "#E5ECF6",
              "width": 0.5
             },
             "pattern": {
              "fillmode": "overlay",
              "size": 10,
              "solidity": 0.2
             }
            },
            "type": "barpolar"
           }
          ],
          "carpet": [
           {
            "aaxis": {
             "endlinecolor": "#2a3f5f",
             "gridcolor": "white",
             "linecolor": "white",
             "minorgridcolor": "white",
             "startlinecolor": "#2a3f5f"
            },
            "baxis": {
             "endlinecolor": "#2a3f5f",
             "gridcolor": "white",
             "linecolor": "white",
             "minorgridcolor": "white",
             "startlinecolor": "#2a3f5f"
            },
            "type": "carpet"
           }
          ],
          "choropleth": [
           {
            "colorbar": {
             "outlinewidth": 0,
             "ticks": ""
            },
            "type": "choropleth"
           }
          ],
          "contour": [
           {
            "colorbar": {
             "outlinewidth": 0,
             "ticks": ""
            },
            "colorscale": [
             [
              0,
              "#0d0887"
             ],
             [
              0.1111111111111111,
              "#46039f"
             ],
             [
              0.2222222222222222,
              "#7201a8"
             ],
             [
              0.3333333333333333,
              "#9c179e"
             ],
             [
              0.4444444444444444,
              "#bd3786"
             ],
             [
              0.5555555555555556,
              "#d8576b"
             ],
             [
              0.6666666666666666,
              "#ed7953"
             ],
             [
              0.7777777777777778,
              "#fb9f3a"
             ],
             [
              0.8888888888888888,
              "#fdca26"
             ],
             [
              1,
              "#f0f921"
             ]
            ],
            "type": "contour"
           }
          ],
          "contourcarpet": [
           {
            "colorbar": {
             "outlinewidth": 0,
             "ticks": ""
            },
            "type": "contourcarpet"
           }
          ],
          "heatmap": [
           {
            "colorbar": {
             "outlinewidth": 0,
             "ticks": ""
            },
            "colorscale": [
             [
              0,
              "#0d0887"
             ],
             [
              0.1111111111111111,
              "#46039f"
             ],
             [
              0.2222222222222222,
              "#7201a8"
             ],
             [
              0.3333333333333333,
              "#9c179e"
             ],
             [
              0.4444444444444444,
              "#bd3786"
             ],
             [
              0.5555555555555556,
              "#d8576b"
             ],
             [
              0.6666666666666666,
              "#ed7953"
             ],
             [
              0.7777777777777778,
              "#fb9f3a"
             ],
             [
              0.8888888888888888,
              "#fdca26"
             ],
             [
              1,
              "#f0f921"
             ]
            ],
            "type": "heatmap"
           }
          ],
          "heatmapgl": [
           {
            "colorbar": {
             "outlinewidth": 0,
             "ticks": ""
            },
            "colorscale": [
             [
              0,
              "#0d0887"
             ],
             [
              0.1111111111111111,
              "#46039f"
             ],
             [
              0.2222222222222222,
              "#7201a8"
             ],
             [
              0.3333333333333333,
              "#9c179e"
             ],
             [
              0.4444444444444444,
              "#bd3786"
             ],
             [
              0.5555555555555556,
              "#d8576b"
             ],
             [
              0.6666666666666666,
              "#ed7953"
             ],
             [
              0.7777777777777778,
              "#fb9f3a"
             ],
             [
              0.8888888888888888,
              "#fdca26"
             ],
             [
              1,
              "#f0f921"
             ]
            ],
            "type": "heatmapgl"
           }
          ],
          "histogram": [
           {
            "marker": {
             "pattern": {
              "fillmode": "overlay",
              "size": 10,
              "solidity": 0.2
             }
            },
            "type": "histogram"
           }
          ],
          "histogram2d": [
           {
            "colorbar": {
             "outlinewidth": 0,
             "ticks": ""
            },
            "colorscale": [
             [
              0,
              "#0d0887"
             ],
             [
              0.1111111111111111,
              "#46039f"
             ],
             [
              0.2222222222222222,
              "#7201a8"
             ],
             [
              0.3333333333333333,
              "#9c179e"
             ],
             [
              0.4444444444444444,
              "#bd3786"
             ],
             [
              0.5555555555555556,
              "#d8576b"
             ],
             [
              0.6666666666666666,
              "#ed7953"
             ],
             [
              0.7777777777777778,
              "#fb9f3a"
             ],
             [
              0.8888888888888888,
              "#fdca26"
             ],
             [
              1,
              "#f0f921"
             ]
            ],
            "type": "histogram2d"
           }
          ],
          "histogram2dcontour": [
           {
            "colorbar": {
             "outlinewidth": 0,
             "ticks": ""
            },
            "colorscale": [
             [
              0,
              "#0d0887"
             ],
             [
              0.1111111111111111,
              "#46039f"
             ],
             [
              0.2222222222222222,
              "#7201a8"
             ],
             [
              0.3333333333333333,
              "#9c179e"
             ],
             [
              0.4444444444444444,
              "#bd3786"
             ],
             [
              0.5555555555555556,
              "#d8576b"
             ],
             [
              0.6666666666666666,
              "#ed7953"
             ],
             [
              0.7777777777777778,
              "#fb9f3a"
             ],
             [
              0.8888888888888888,
              "#fdca26"
             ],
             [
              1,
              "#f0f921"
             ]
            ],
            "type": "histogram2dcontour"
           }
          ],
          "mesh3d": [
           {
            "colorbar": {
             "outlinewidth": 0,
             "ticks": ""
            },
            "type": "mesh3d"
           }
          ],
          "parcoords": [
           {
            "line": {
             "colorbar": {
              "outlinewidth": 0,
              "ticks": ""
             }
            },
            "type": "parcoords"
           }
          ],
          "pie": [
           {
            "automargin": true,
            "type": "pie"
           }
          ],
          "scatter": [
           {
            "fillpattern": {
             "fillmode": "overlay",
             "size": 10,
             "solidity": 0.2
            },
            "type": "scatter"
           }
          ],
          "scatter3d": [
           {
            "line": {
             "colorbar": {
              "outlinewidth": 0,
              "ticks": ""
             }
            },
            "marker": {
             "colorbar": {
              "outlinewidth": 0,
              "ticks": ""
             }
            },
            "type": "scatter3d"
           }
          ],
          "scattercarpet": [
           {
            "marker": {
             "colorbar": {
              "outlinewidth": 0,
              "ticks": ""
             }
            },
            "type": "scattercarpet"
           }
          ],
          "scattergeo": [
           {
            "marker": {
             "colorbar": {
              "outlinewidth": 0,
              "ticks": ""
             }
            },
            "type": "scattergeo"
           }
          ],
          "scattergl": [
           {
            "marker": {
             "colorbar": {
              "outlinewidth": 0,
              "ticks": ""
             }
            },
            "type": "scattergl"
           }
          ],
          "scattermapbox": [
           {
            "marker": {
             "colorbar": {
              "outlinewidth": 0,
              "ticks": ""
             }
            },
            "type": "scattermapbox"
           }
          ],
          "scatterpolar": [
           {
            "marker": {
             "colorbar": {
              "outlinewidth": 0,
              "ticks": ""
             }
            },
            "type": "scatterpolar"
           }
          ],
          "scatterpolargl": [
           {
            "marker": {
             "colorbar": {
              "outlinewidth": 0,
              "ticks": ""
             }
            },
            "type": "scatterpolargl"
           }
          ],
          "scatterternary": [
           {
            "marker": {
             "colorbar": {
              "outlinewidth": 0,
              "ticks": ""
             }
            },
            "type": "scatterternary"
           }
          ],
          "surface": [
           {
            "colorbar": {
             "outlinewidth": 0,
             "ticks": ""
            },
            "colorscale": [
             [
              0,
              "#0d0887"
             ],
             [
              0.1111111111111111,
              "#46039f"
             ],
             [
              0.2222222222222222,
              "#7201a8"
             ],
             [
              0.3333333333333333,
              "#9c179e"
             ],
             [
              0.4444444444444444,
              "#bd3786"
             ],
             [
              0.5555555555555556,
              "#d8576b"
             ],
             [
              0.6666666666666666,
              "#ed7953"
             ],
             [
              0.7777777777777778,
              "#fb9f3a"
             ],
             [
              0.8888888888888888,
              "#fdca26"
             ],
             [
              1,
              "#f0f921"
             ]
            ],
            "type": "surface"
           }
          ],
          "table": [
           {
            "cells": {
             "fill": {
              "color": "#EBF0F8"
             },
             "line": {
              "color": "white"
             }
            },
            "header": {
             "fill": {
              "color": "#C8D4E3"
             },
             "line": {
              "color": "white"
             }
            },
            "type": "table"
           }
          ]
         },
         "layout": {
          "annotationdefaults": {
           "arrowcolor": "#2a3f5f",
           "arrowhead": 0,
           "arrowwidth": 1
          },
          "autotypenumbers": "strict",
          "coloraxis": {
           "colorbar": {
            "outlinewidth": 0,
            "ticks": ""
           }
          },
          "colorscale": {
           "diverging": [
            [
             0,
             "#8e0152"
            ],
            [
             0.1,
             "#c51b7d"
            ],
            [
             0.2,
             "#de77ae"
            ],
            [
             0.3,
             "#f1b6da"
            ],
            [
             0.4,
             "#fde0ef"
            ],
            [
             0.5,
             "#f7f7f7"
            ],
            [
             0.6,
             "#e6f5d0"
            ],
            [
             0.7,
             "#b8e186"
            ],
            [
             0.8,
             "#7fbc41"
            ],
            [
             0.9,
             "#4d9221"
            ],
            [
             1,
             "#276419"
            ]
           ],
           "sequential": [
            [
             0,
             "#0d0887"
            ],
            [
             0.1111111111111111,
             "#46039f"
            ],
            [
             0.2222222222222222,
             "#7201a8"
            ],
            [
             0.3333333333333333,
             "#9c179e"
            ],
            [
             0.4444444444444444,
             "#bd3786"
            ],
            [
             0.5555555555555556,
             "#d8576b"
            ],
            [
             0.6666666666666666,
             "#ed7953"
            ],
            [
             0.7777777777777778,
             "#fb9f3a"
            ],
            [
             0.8888888888888888,
             "#fdca26"
            ],
            [
             1,
             "#f0f921"
            ]
           ],
           "sequentialminus": [
            [
             0,
             "#0d0887"
            ],
            [
             0.1111111111111111,
             "#46039f"
            ],
            [
             0.2222222222222222,
             "#7201a8"
            ],
            [
             0.3333333333333333,
             "#9c179e"
            ],
            [
             0.4444444444444444,
             "#bd3786"
            ],
            [
             0.5555555555555556,
             "#d8576b"
            ],
            [
             0.6666666666666666,
             "#ed7953"
            ],
            [
             0.7777777777777778,
             "#fb9f3a"
            ],
            [
             0.8888888888888888,
             "#fdca26"
            ],
            [
             1,
             "#f0f921"
            ]
           ]
          },
          "colorway": [
           "#636efa",
           "#EF553B",
           "#00cc96",
           "#ab63fa",
           "#FFA15A",
           "#19d3f3",
           "#FF6692",
           "#B6E880",
           "#FF97FF",
           "#FECB52"
          ],
          "font": {
           "color": "#2a3f5f"
          },
          "geo": {
           "bgcolor": "white",
           "lakecolor": "white",
           "landcolor": "#E5ECF6",
           "showlakes": true,
           "showland": true,
           "subunitcolor": "white"
          },
          "hoverlabel": {
           "align": "left"
          },
          "hovermode": "closest",
          "mapbox": {
           "style": "light"
          },
          "paper_bgcolor": "white",
          "plot_bgcolor": "#E5ECF6",
          "polar": {
           "angularaxis": {
            "gridcolor": "white",
            "linecolor": "white",
            "ticks": ""
           },
           "bgcolor": "#E5ECF6",
           "radialaxis": {
            "gridcolor": "white",
            "linecolor": "white",
            "ticks": ""
           }
          },
          "scene": {
           "xaxis": {
            "backgroundcolor": "#E5ECF6",
            "gridcolor": "white",
            "gridwidth": 2,
            "linecolor": "white",
            "showbackground": true,
            "ticks": "",
            "zerolinecolor": "white"
           },
           "yaxis": {
            "backgroundcolor": "#E5ECF6",
            "gridcolor": "white",
            "gridwidth": 2,
            "linecolor": "white",
            "showbackground": true,
            "ticks": "",
            "zerolinecolor": "white"
           },
           "zaxis": {
            "backgroundcolor": "#E5ECF6",
            "gridcolor": "white",
            "gridwidth": 2,
            "linecolor": "white",
            "showbackground": true,
            "ticks": "",
            "zerolinecolor": "white"
           }
          },
          "shapedefaults": {
           "line": {
            "color": "#2a3f5f"
           }
          },
          "ternary": {
           "aaxis": {
            "gridcolor": "white",
            "linecolor": "white",
            "ticks": ""
           },
           "baxis": {
            "gridcolor": "white",
            "linecolor": "white",
            "ticks": ""
           },
           "bgcolor": "#E5ECF6",
           "caxis": {
            "gridcolor": "white",
            "linecolor": "white",
            "ticks": ""
           }
          },
          "title": {
           "x": 0.05
          },
          "xaxis": {
           "automargin": true,
           "gridcolor": "white",
           "linecolor": "white",
           "ticks": "",
           "title": {
            "standoff": 15
           },
           "zerolinecolor": "white",
           "zerolinewidth": 2
          },
          "yaxis": {
           "automargin": true,
           "gridcolor": "white",
           "linecolor": "white",
           "ticks": "",
           "title": {
            "standoff": 15
           },
           "zerolinecolor": "white",
           "zerolinewidth": 2
          }
         }
        },
        "title": {
         "text": "Zwei Partitionen von Punkten, die durch ein Polynom fünften Grades trennbar sind"
        },
        "xaxis": {
         "range": [
          0,
          5
         ],
         "title": {
          "text": "x"
         },
         "type": "linear"
        },
        "yaxis": {
         "range": [
          0,
          5
         ],
         "title": {
          "text": "y"
         },
         "type": "linear"
        }
       }
      },
      "image/png": "[encoded data removed]",
      "text/html": [
       "<div>                            <div id=\"ce211b89-bf3d-4228-99ad-1e0dbc516240\" class=\"plotly-graph-div\" style=\"height:700px; width:100%;\"></div>            <script type=\"text/javascript\">                require([\"plotly\"], function(Plotly) {                    window.PLOTLYENV=window.PLOTLYENV || {};                                    if (document.getElementById(\"ce211b89-bf3d-4228-99ad-1e0dbc516240\")) {                    Plotly.newPlot(                        \"ce211b89-bf3d-4228-99ad-1e0dbc516240\",                        [{\"marker\":{\"color\":\"blue\"},\"mode\":\"markers\",\"name\":\"Partition 1\",\"x\":[4.75357153204958,0.10292247147901223,4.8495492608099715,2.1597250932105787,1.4561457009902097,0.23225206359998862,0.8526206184364576,4.7444276862666666,4.828160165372797,0.48836057003191935,4.546602010393911,1.2938999080000846,4.847923138822793,4.697494707820946,4.474136752138244,4.609371175115584,1.3567451588694794,1.4046725484369038,0.3727532183988541,4.9344346830025865,0.993578407670862,0.027610585618011996,1.7923286427213632],\"y\":[3.1164906341377896,0.5979712296915085,3.566223936114975,0.12709563372047594,0.5394571349665223,0.38489954914396496,0.8061064362700221,4.040601897822085,3.1670187825521174,0.9328502944301792,0.5502596226383838,1.1396758127097084,2.087055015743895,0.599326836668414,1.6880758570181398,1.6160146601037761,1.2589114791268208,1.424202471887338,0.25739375624994676,1.3932323211830573,1.197809453334862,0.7244743604561155,1.1881877199619983],\"type\":\"scatter\"},{\"marker\":{\"color\":\"red\"},\"mode\":\"markers\",\"name\":\"Partition 2\",\"x\":[1.838915663596266,3.1615291529678973,3.1676485538044736,2.6788734203737925,4.17651247794619,1.6039003248586792,0.9325925519992712,0.20387570777381958,2.954464715941209,3.3878218092114123,0.08293914463928076,2.560465291496405,1.1324788759896898,3.2258639520472494,0.8718321450249572,3.45468869051233,1.933676731502687,1.7053317552512925,0.5673676062029454,1.289708138575778,3.299920230170895,4.0861110010060795,2.7760040579973118,2.6482528917800323,0.46551383902949606,3.16550728636634,1.6951489552435035,1.7460478730633044,3.629778394351197,3.899377729288119,3.2101582307714387,0.42069982497524416,0.8081435704730688,3.0321452982979498,0.5073577143301605,3.317508845540279,0.025307919231093434,0.8040402570874933,2.7436689468329307,3.459475988463466],\"y\":[4.702292921764571,4.769642885012937,4.574321951102243,1.8507935012772219,4.641592812938627,2.1409207415865716,4.833274095218348,4.818099885446264,4.265047277336801,1.4722444603479286,1.9254886430096263,4.255683357584284,1.5846100257813882,0.8474637334304624,2.784006312291751,4.680773870803905,3.480148983374865,3.075036133495849,4.950269250521316,4.386865359639777,3.703843088771022,3.48507870497634,3.5124204199355464,1.7974557560987758,4.046805777392568,4.566202762782357,2.556711994304689,2.507581473435998,3.9914758948338758,3.978963347180505,4.450026709087831,1.689975784257679,1.87791476319972,2.89140070498087,2.3279900906623006,2.713223173537883,1.432706260641422,2.9541663028450538,0.15250124969524714,0.18674094374607209],\"type\":\"scatter\"},{\"line\":{\"color\":\"green\"},\"mode\":\"lines\",\"name\":\"Trennpolynom 5. Grades\",\"x\":[0.0,0.050505050505050504,0.10101010101010101,0.15151515151515152,0.20202020202020202,0.25252525252525254,0.30303030303030304,0.35353535353535354,0.40404040404040403,0.45454545454545453,0.5050505050505051,0.5555555555555556,0.6060606060606061,0.6565656565656566,0.7070707070707071,0.7575757575757576,0.8080808080808081,0.8585858585858586,0.9090909090909091,0.9595959595959596,1.0101010101010102,1.0606060606060606,1.1111111111111112,1.1616161616161615,1.2121212121212122,1.2626262626262625,1.3131313131313131,1.3636363636363635,1.4141414141414141,1.4646464646464645,1.5151515151515151,1.5656565656565655,1.6161616161616161,1.6666666666666667,1.7171717171717171,1.7676767676767677,1.8181818181818181,1.8686868686868687,1.9191919191919191,1.9696969696969697,2.0202020202020203,2.0707070707070705,2.121212121212121,2.1717171717171717,2.2222222222222223,2.2727272727272725,2.323232323232323,2.3737373737373737,2.4242424242424243,2.474747474747475,2.525252525252525,2.5757575757575757,2.6262626262626263,2.676767676767677,2.727272727272727,2.7777777777777777,2.8282828282828283,2.878787878787879,2.929292929292929,2.9797979797979797,3.0303030303030303,3.080808080808081,3.131313131313131,3.1818181818181817,3.2323232323232323,3.282828282828283,3.3333333333333335,3.3838383838383836,3.4343434343434343,3.484848484848485,3.5353535353535355,3.5858585858585856,3.6363636363636362,3.686868686868687,3.7373737373737375,3.7878787878787876,3.8383838383838382,3.888888888888889,3.9393939393939394,3.9898989898989896,4.040404040404041,4.090909090909091,4.141414141414141,4.191919191919192,4.242424242424242,4.292929292929293,4.343434343434343,4.393939393939394,4.444444444444445,4.494949494949495,4.545454545454545,4.595959595959596,4.646464646464646,4.696969696969697,4.747474747474747,4.797979797979798,4.848484848484849,4.898989898989899,4.94949494949495,5.0],\"y\":[1.0,1.0247919682519067,1.0488459816218736,1.072403418818357,1.0956627558927312,1.1187815378687487,1.1418783503720022,1.1650347912593864,1.1882974422485595,1.2116798405474043,1.2351644504834898,1.2587046351335331,1.282226627952861,1.3056315044048707,1.328797153590492,1.351580249877649,1.3738182245307213,1.395331237340005,1.415924148251175,1.435388488994747,1.4535044347155373,1.4700427756021257,1.484766888516317,1.4974347086226016,1.5078007010176186,1.5156178323596148,1.5206395424979093,1.5226217161023528,1.5213246542927894,1.5165150462685195,1.5079679409377593,1.495468718547105,1.4788150623109904,1.4578189300411524,1.432308525776091,1.4021302714105295,1.3671507783248784,1.327258819014695,1.2823672987201458,1.232415227055469,1.1773696896384327,1.117227819719799,1.052018769812789,0.9818056833225339,0.9066876661755503,0.8268017584491874,0.7423249060011017,0.6534759320987094,0.56051750904865,0.4637581298262552,0.36355407970499276,0.26031140788595253,0.15448789912728156,0.04659504537367298,-0.06279998261420183,-0.17307236363020229,-0.2835376543932846,-0.3934498179180146,-0.5019992518851257,-0.6083108170120488,-0.7114418654234531,-0.8103802690217827,-0.9040424478577875,-0.9912713985010928,-1.0708347224106909,-1.1414226543055208,-1.2016460905349762,-1.250034617449467,-1.2850345397709466,-1.3050069089634473,-1.3082255516036398,-1.2928750977513164,-1.2570490093200313,-1.1987476084475093,-1.1158761058662856,-1.0062426292742197,-0.8675562517050075,-0.6974250198987237,-0.49335398267240826,-0.25274321929054455,0.027114132164389737,0.3490338464213303,0.7159425826501353,1.130879856091127,1.5970000096843369,2.117574185699182,2.69599229736378,3.3357650004945643,4.040525665125603,4.814032347138029,5.6601697598897225,6.582951245844583,7.586520748201993,8.675154782526437,9.853264408376656,11.125397200935517,12.496239222639208,13.970616994806676,15.553499469269305,17.25],\"type\":\"scatter\"}],                        {\"template\":{\"data\":{\"histogram2dcontour\":[{\"type\":\"histogram2dcontour\",\"colorbar\":{\"outlinewidth\":0,\"ticks\":\"\"},\"colorscale\":[[0.0,\"#0d0887\"],[0.1111111111111111,\"#46039f\"],[0.2222222222222222,\"#7201a8\"],[0.3333333333333333,\"#9c179e\"],[0.4444444444444444,\"#bd3786\"],[0.5555555555555556,\"#d8576b\"],[0.6666666666666666,\"#ed7953\"],[0.7777777777777778,\"#fb9f3a\"],[0.8888888888888888,\"#fdca26\"],[1.0,\"#f0f921\"]]}],\"choropleth\":[{\"type\":\"choropleth\",\"colorbar\":{\"outlinewidth\":0,\"ticks\":\"\"}}],\"histogram2d\":[{\"type\":\"histogram2d\",\"colorbar\":{\"outlinewidth\":0,\"ticks\":\"\"},\"colorscale\":[[0.0,\"#0d0887\"],[0.1111111111111111,\"#46039f\"],[0.2222222222222222,\"#7201a8\"],[0.3333333333333333,\"#9c179e\"],[0.4444444444444444,\"#bd3786\"],[0.5555555555555556,\"#d8576b\"],[0.6666666666666666,\"#ed7953\"],[0.7777777777777778,\"#fb9f3a\"],[0.8888888888888888,\"#fdca26\"],[1.0,\"#f0f921\"]]}],\"heatmap\":[{\"type\":\"heatmap\",\"colorbar\":{\"outlinewidth\":0,\"ticks\":\"\"},\"colorscale\":[[0.0,\"#0d0887\"],[0.1111111111111111,\"#46039f\"],[0.2222222222222222,\"#7201a8\"],[0.3333333333333333,\"#9c179e\"],[0.4444444444444444,\"#bd3786\"],[0.5555555555555556,\"#d8576b\"],[0.6666666666666666,\"#ed7953\"],[0.7777777777777778,\"#fb9f3a\"],[0.8888888888888888,\"#fdca26\"],[1.0,\"#f0f921\"]]}],\"heatmapgl\":[{\"type\":\"heatmapgl\",\"colorbar\":{\"outlinewidth\":0,\"ticks\":\"\"},\"colorscale\":[[0.0,\"#0d0887\"],[0.1111111111111111,\"#46039f\"],[0.2222222222222222,\"#7201a8\"],[0.3333333333333333,\"#9c179e\"],[0.4444444444444444,\"#bd3786\"],[0.5555555555555556,\"#d8576b\"],[0.6666666666666666,\"#ed7953\"],[0.7777777777777778,\"#fb9f3a\"],[0.8888888888888888,\"#fdca26\"],[1.0,\"#f0f921\"]]}],\"contourcarpet\":[{\"type\":\"contourcarpet\",\"colorbar\":{\"outlinewidth\":0,\"ticks\":\"\"}}],\"contour\":[{\"type\":\"contour\",\"colorbar\":{\"outlinewidth\":0,\"ticks\":\"\"},\"colorscale\":[[0.0,\"#0d0887\"],[0.1111111111111111,\"#46039f\"],[0.2222222222222222,\"#7201a8\"],[0.3333333333333333,\"#9c179e\"],[0.4444444444444444,\"#bd3786\"],[0.5555555555555556,\"#d8576b\"],[0.6666666666666666,\"#ed7953\"],[0.7777777777777778,\"#fb9f3a\"],[0.8888888888888888,\"#fdca26\"],[1.0,\"#f0f921\"]]}],\"surface\":[{\"type\":\"surface\",\"colorbar\":{\"outlinewidth\":0,\"ticks\":\"\"},\"colorscale\":[[0.0,\"#0d0887\"],[0.1111111111111111,\"#46039f\"],[0.2222222222222222,\"#7201a8\"],[0.3333333333333333,\"#9c179e\"],[0.4444444444444444,\"#bd3786\"],[0.5555555555555556,\"#d8576b\"],[0.6666666666666666,\"#ed7953\"],[0.7777777777777778,\"#fb9f3a\"],[0.8888888888888888,\"#fdca26\"],[1.0,\"#f0f921\"]]}],\"mesh3d\":[{\"type\":\"mesh3d\",\"colorbar\":{\"outlinewidth\":0,\"ticks\":\"\"}}],\"scatter\":[{\"fillpattern\":{\"fillmode\":\"overlay\",\"size\":10,\"solidity\":0.2},\"type\":\"scatter\"}],\"parcoords\":[{\"type\":\"parcoords\",\"line\":{\"colorbar\":{\"outlinewidth\":0,\"ticks\":\"\"}}}],\"scatterpolargl\":[{\"type\":\"scatterpolargl\",\"marker\":{\"colorbar\":{\"outlinewidth\":0,\"ticks\":\"\"}}}],\"bar\":[{\"error_x\":{\"color\":\"#2a3f5f\"},\"error_y\":{\"color\":\"#2a3f5f\"},\"marker\":{\"line\":{\"color\":\"#E5ECF6\",\"width\":0.5},\"pattern\":{\"fillmode\":\"overlay\",\"size\":10,\"solidity\":0.2}},\"type\":\"bar\"}],\"scattergeo\":[{\"type\":\"scattergeo\",\"marker\":{\"colorbar\":{\"outlinewidth\":0,\"ticks\":\"\"}}}],\"scatterpolar\":[{\"type\":\"scatterpolar\",\"marker\":{\"colorbar\":{\"outlinewidth\":0,\"ticks\":\"\"}}}],\"histogram\":[{\"marker\":{\"pattern\":{\"fillmode\":\"overlay\",\"size\":10,\"solidity\":0.2}},\"type\":\"histogram\"}],\"scattergl\":[{\"type\":\"scattergl\",\"marker\":{\"colorbar\":{\"outlinewidth\":0,\"ticks\":\"\"}}}],\"scatter3d\":[{\"type\":\"scatter3d\",\"line\":{\"colorbar\":{\"outlinewidth\":0,\"ticks\":\"\"}},\"marker\":{\"colorbar\":{\"outlinewidth\":0,\"ticks\":\"\"}}}],\"scattermapbox\":[{\"type\":\"scattermapbox\",\"marker\":{\"colorbar\":{\"outlinewidth\":0,\"ticks\":\"\"}}}],\"scatterternary\":[{\"type\":\"scatterternary\",\"marker\":{\"colorbar\":{\"outlinewidth\":0,\"ticks\":\"\"}}}],\"scattercarpet\":[{\"type\":\"scattercarpet\",\"marker\":{\"colorbar\":{\"outlinewidth\":0,\"ticks\":\"\"}}}],\"carpet\":[{\"aaxis\":{\"endlinecolor\":\"#2a3f5f\",\"gridcolor\":\"white\",\"linecolor\":\"white\",\"minorgridcolor\":\"white\",\"startlinecolor\":\"#2a3f5f\"},\"baxis\":{\"endlinecolor\":\"#2a3f5f\",\"gridcolor\":\"white\",\"linecolor\":\"white\",\"minorgridcolor\":\"white\",\"startlinecolor\":\"#2a3f5f\"},\"type\":\"carpet\"}],\"table\":[{\"cells\":{\"fill\":{\"color\":\"#EBF0F8\"},\"line\":{\"color\":\"white\"}},\"header\":{\"fill\":{\"color\":\"#C8D4E3\"},\"line\":{\"color\":\"white\"}},\"type\":\"table\"}],\"barpolar\":[{\"marker\":{\"line\":{\"color\":\"#E5ECF6\",\"width\":0.5},\"pattern\":{\"fillmode\":\"overlay\",\"size\":10,\"solidity\":0.2}},\"type\":\"barpolar\"}],\"pie\":[{\"automargin\":true,\"type\":\"pie\"}]},\"layout\":{\"autotypenumbers\":\"strict\",\"colorway\":[\"#636efa\",\"#EF553B\",\"#00cc96\",\"#ab63fa\",\"#FFA15A\",\"#19d3f3\",\"#FF6692\",\"#B6E880\",\"#FF97FF\",\"#FECB52\"],\"font\":{\"color\":\"#2a3f5f\"},\"hovermode\":\"closest\",\"hoverlabel\":{\"align\":\"left\"},\"paper_bgcolor\":\"white\",\"plot_bgcolor\":\"#E5ECF6\",\"polar\":{\"bgcolor\":\"#E5ECF6\",\"angularaxis\":{\"gridcolor\":\"white\",\"linecolor\":\"white\",\"ticks\":\"\"},\"radialaxis\":{\"gridcolor\":\"white\",\"linecolor\":\"white\",\"ticks\":\"\"}},\"ternary\":{\"bgcolor\":\"#E5ECF6\",\"aaxis\":{\"gridcolor\":\"white\",\"linecolor\":\"white\",\"ticks\":\"\"},\"baxis\":{\"gridcolor\":\"white\",\"linecolor\":\"white\",\"ticks\":\"\"},\"caxis\":{\"gridcolor\":\"white\",\"linecolor\":\"white\",\"ticks\":\"\"}},\"coloraxis\":{\"colorbar\":{\"outlinewidth\":0,\"ticks\":\"\"}},\"colorscale\":{\"sequential\":[[0.0,\"#0d0887\"],[0.1111111111111111,\"#46039f\"],[0.2222222222222222,\"#7201a8\"],[0.3333333333333333,\"#9c179e\"],[0.4444444444444444,\"#bd3786\"],[0.5555555555555556,\"#d8576b\"],[0.6666666666666666,\"#ed7953\"],[0.7777777777777778,\"#fb9f3a\"],[0.8888888888888888,\"#fdca26\"],[1.0,\"#f0f921\"]],\"sequentialminus\":[[0.0,\"#0d0887\"],[0.1111111111111111,\"#46039f\"],[0.2222222222222222,\"#7201a8\"],[0.3333333333333333,\"#9c179e\"],[0.4444444444444444,\"#bd3786\"],[0.5555555555555556,\"#d8576b\"],[0.6666666666666666,\"#ed7953\"],[0.7777777777777778,\"#fb9f3a\"],[0.8888888888888888,\"#fdca26\"],[1.0,\"#f0f921\"]],\"diverging\":[[0,\"#8e0152\"],[0.1,\"#c51b7d\"],[0.2,\"#de77ae\"],[0.3,\"#f1b6da\"],[0.4,\"#fde0ef\"],[0.5,\"#f7f7f7\"],[0.6,\"#e6f5d0\"],[0.7,\"#b8e186\"],[0.8,\"#7fbc41\"],[0.9,\"#4d9221\"],[1,\"#276419\"]]},\"xaxis\":{\"gridcolor\":\"white\",\"linecolor\":\"white\",\"ticks\":\"\",\"title\":{\"standoff\":15},\"zerolinecolor\":\"white\",\"automargin\":true,\"zerolinewidth\":2},\"yaxis\":{\"gridcolor\":\"white\",\"linecolor\":\"white\",\"ticks\":\"\",\"title\":{\"standoff\":15},\"zerolinecolor\":\"white\",\"automargin\":true,\"zerolinewidth\":2},\"scene\":{\"xaxis\":{\"backgroundcolor\":\"#E5ECF6\",\"gridcolor\":\"white\",\"linecolor\":\"white\",\"showbackground\":true,\"ticks\":\"\",\"zerolinecolor\":\"white\",\"gridwidth\":2},\"yaxis\":{\"backgroundcolor\":\"#E5ECF6\",\"gridcolor\":\"white\",\"linecolor\":\"white\",\"showbackground\":true,\"ticks\":\"\",\"zerolinecolor\":\"white\",\"gridwidth\":2},\"zaxis\":{\"backgroundcolor\":\"#E5ECF6\",\"gridcolor\":\"white\",\"linecolor\":\"white\",\"showbackground\":true,\"ticks\":\"\",\"zerolinecolor\":\"white\",\"gridwidth\":2}},\"shapedefaults\":{\"line\":{\"color\":\"#2a3f5f\"}},\"annotationdefaults\":{\"arrowcolor\":\"#2a3f5f\",\"arrowhead\":0,\"arrowwidth\":1},\"geo\":{\"bgcolor\":\"white\",\"landcolor\":\"#E5ECF6\",\"subunitcolor\":\"white\",\"showland\":true,\"showlakes\":true,\"lakecolor\":\"white\"},\"title\":{\"x\":0.05},\"mapbox\":{\"style\":\"light\"}}},\"xaxis\":{\"title\":{\"text\":\"x\"},\"range\":[0,5]},\"yaxis\":{\"title\":{\"text\":\"y\"},\"range\":[0,5]},\"title\":{\"text\":\"Zwei Partitionen von Punkten, die durch ein Polynom f\\u00fcnften Grades trennbar sind\"},\"height\":700},                        {\"responsive\": true}                    ).then(function(){\n",
       "                            \n",
       "var gd = document.getElementById('ce211b89-bf3d-4228-99ad-1e0dbc516240');\n",
       "var x = new MutationObserver(function (mutations, observer) {{\n",
       "        var display = window.getComputedStyle(gd).display;\n",
       "        if (!display || display === 'none') {{\n",
       "            console.log([gd, 'removed!']);\n",
       "            Plotly.purge(gd);\n",
       "            observer.disconnect();\n",
       "        }}\n",
       "}});\n",
       "\n",
       "// Listen for the removal of the full notebook cells\n",
       "var notebookContainer = gd.closest('#notebook-container');\n",
       "if (notebookContainer) {{\n",
       "    x.observe(notebookContainer, {childList: true});\n",
       "}}\n",
       "\n",
       "// Listen for the clearing of the current output cell\n",
       "var outputEl = gd.closest('.output');\n",
       "if (outputEl) {{\n",
       "    x.observe(outputEl, {childList: true});\n",
       "}}\n",
       "\n",
       "                        })                };                });            </script>        </div>"
      ]
     },
     "metadata": {},
     "output_type": "display_data"
    }
   ],
   "source": [
    "import numpy as np\n",
    "import plotly.graph_objects as go\n",
    "\n",
    "# Anzahl der Punkte\n",
    "n_points = 80\n",
    "n_partition = n_points // 2\n",
    "\n",
    "# Generiere Zufallspunkte zwischen 0 und 5 für beide Partitionen\n",
    "np.random.seed(42)\n",
    "\n",
    "# Polynomiale Trennungsfunktion fünften Grades: y = 0.05x^5 - 0.3x^4 + 0.4x^3 - 0.2x^2 + 0.5x + 1\n",
    "def polynomial(x):\n",
    "    return 0.05 * x**5 - 0.3 * x**4 + 0.4 * x**3 - 0.2 * x**2 + 0.5 * x + 1\n",
    "\n",
    "# Partition 1: Punkte unter dem Polynom\n",
    "x1 = np.random.uniform(0, 5, n_partition * 2)  # Mehr Punkte generieren, um genug gültige zu finden\n",
    "y1 = np.random.uniform(0, 5, n_partition * 2)\n",
    "mask1 = y1 < polynomial(x1)  # Bedingung für Partition 1\n",
    "x1, y1 = x1[mask1][:n_partition], y1[mask1][:n_partition]  # Auf 40 Punkte beschränken\n",
    "\n",
    "# Partition 2: Punkte über dem Polynom\n",
    "x2 = np.random.uniform(0, 5, n_partition * 2)  # Mehr Punkte generieren, um genug gültige zu finden\n",
    "y2 = np.random.uniform(0, 5, n_partition * 2)\n",
    "mask2 = y2 >= polynomial(x2)  # Bedingung für Partition 2\n",
    "x2, y2 = x2[mask2][:n_partition], y2[mask2][:n_partition]  # Auf 40 Punkte beschränken\n",
    "\n",
    "# Erstellen der Visualisierung mit plotly\n",
    "fig = go.Figure()\n",
    "\n",
    "# Punkte der ersten Partition\n",
    "fig.add_trace(go.Scatter(x=x1, y=y1, mode='markers', name='Partition 1', marker=dict(color='blue')))\n",
    "\n",
    "# Punkte der zweiten Partition\n",
    "fig.add_trace(go.Scatter(x=x2, y=y2, mode='markers', name='Partition 2', marker=dict(color='red')))\n",
    "\n",
    "# Zeichne das Trennungspolynom fünften Grades\n",
    "x_line = np.linspace(0, 5, 100)\n",
    "y_line = polynomial(x_line)\n",
    "fig.add_trace(go.Scatter(x=x_line, y=y_line, mode='lines', name='Trennpolynom 5. Grades', line=dict(color='green')))\n",
    "\n",
    "# Layout-Einstellungen\n",
    "fig.update_layout(\n",
    "    title='Zwei Partitionen von Punkten, die durch ein Polynom fünften Grades trennbar sind',\n",
    "    xaxis_title='x',\n",
    "    yaxis_title='y',\n",
    "    xaxis=dict(range=[0, 5]),\n",
    "    yaxis=dict(range=[0, 5]),\n",
    "    height=700\n",
    ")\n",
    "\n",
    "# Visualisierung anzeigen\n",
    "fig.show()\n"
   ]
  },
  {
   "cell_type": "code",
   "execution_count": 12,
   "id": "4ed9f676-c47d-40ee-a4a1-6f67683cf63f",
   "metadata": {},
   "outputs": [
    {
     "data": {
      "application/vnd.plotly.v1+json": {
       "config": {
        "plotlyServerURL": "https://plot.ly"
       },
       "data": [
        {
         "marker": {
          "color": "blue"
         },
         "mode": "markers",
         "name": "Partition 1 (Innen)",
         "type": "scatter",
         "x": [
          3.6599697090570253,
          3.540362888980227,
          1.0616955533913808,
          0.9170225492671691,
          1.5212112147976886,
          2.6237821581611893,
          1.4607232426760908,
          1.8318092164684585,
          0.9983689107917987,
          2.571172192068058,
          2.9620728443102124,
          3.0377242595071916,
          2.2007624686980067,
          3.31261142176991,
          0.9242722776276352,
          4.143687545759647,
          1.7837666334679465,
          1.4046725484369038,
          0.7046211248738132,
          4.010984903770199,
          4.0773071422741705,
          3.8563517334297286,
          1.7923286427213632
         ],
         "y": [
          1.654490124263246,
          2.3610746258097466,
          2.8063859878474813,
          2.4689779818219537,
          2.6136641469099704,
          2.137705091792748,
          1.5717799053816335,
          2.542853455823514,
          2.0519146151781484,
          3.7777556927152434,
          1.1439908274581123,
          1.4487572645688402,
          2.6967112095782535,
          2.1355389431312815,
          2.553736512887829,
          2.4862425294619275,
          1.5043915490838482,
          1.424202471887338,
          3.047821669899484,
          2.5133951161443076,
          2.447263801387815,
          3.360677737029393,
          1.1881877199619983
         ]
        },
        {
         "marker": {
          "color": "red"
         },
         "mode": "markers",
         "name": "Partition 2 (Außen)",
         "type": "scatter",
         "x": [
          1.838915663596266,
          3.1615291529678973,
          3.1676485538044736,
          0.4514488502720415,
          4.17651247794619,
          0.9325925519992712,
          0.20387570777381958,
          2.954464715941209,
          0.08293914463928076,
          2.560465291496405,
          3.2258639520472494,
          3.45468869051233,
          4.6836499436836725,
          0.6876047207299663,
          0.5673676062029454,
          4.623468091392814,
          1.289708138575778,
          4.0861110010060795,
          0.46551383902949606,
          4.486078789766633,
          4.502090285816652,
          3.16550728636634,
          3.629778394351197,
          4.485551299762886,
          4.4354321213255865,
          3.899377729288119,
          3.2101582307714387,
          0.42069982497524416,
          4.492770942635397,
          0.04598525808314824,
          0.5073577143301605,
          0.025307919231093434,
          2.7436689468329307,
          3.459475988463466,
          3.259806297513003,
          3.560896106737679,
          1.6269984907963386,
          3.732457025590121,
          4.24611705247089,
          3.2880644615017167
         ],
         "y": [
          4.702292921764571,
          4.769642885012937,
          4.574321951102243,
          0.07728308264433714,
          4.641592812938627,
          4.833274095218348,
          4.818099885446264,
          4.265047277336801,
          1.9254886430096263,
          4.255683357584284,
          0.8474637334304624,
          4.680773870803905,
          2.8503058504468246,
          0.4858824688538427,
          4.950269250521316,
          0.7004200761826201,
          4.386865359639777,
          3.48507870497634,
          4.046805777392568,
          4.050566973395904,
          4.335361592900519,
          4.566202762782357,
          3.9914758948338758,
          3.2498196538888258,
          3.509834386288517,
          3.978963347180505,
          4.450026709087831,
          1.689975784257679,
          0.469909699204345,
          0.17971136898371043,
          2.3279900906623006,
          1.432706260641422,
          0.15250124969524714,
          0.18674094374607209,
          4.113002803298292,
          0.6353025632594239,
          3.849967765493054,
          1.0791051374842158,
          0.42673732496884,
          0.2584086058430385
         ]
        },
        {
         "line": {
          "color": "green"
         },
         "mode": "lines",
         "name": "Trennellipse",
         "type": "scatter",
         "x": [
          4.5,
          4.495973352943769,
          4.483909625661591,
          4.463857394525413,
          4.435897402792713,
          4.400142235481891,
          4.356735866032145,
          4.305853076573243,
          4.24769875413957,
          4.182507065662362,
          4.110540515062118,
          4.032088886237956,
          3.94746807621014,
          3.8570188231142644,
          3.761105334169045,
          3.6601138191423965,
          3.5544509352210047,
          3.4445421495453656,
          3.330830026003773,
          3.2137724431837436,
          3.09384075065655,
          2.971517871018855,
          2.847296355333861,
          2.721676399802022,
          2.5951638316474845,
          2.468268072330384,
          2.341500086286423,
          2.2153703234534294,
          2.0903866638696185,
          1.9670523726199298,
          1.8458640733651568,
          1.7273097486137425,
          1.6118667747884516,
          1.4999999999999998,
          1.3921598722677795,
          1.2887806257246666,
          1.19027853210943,
          1.0970502245873572,
          1.0094711006484907,
          0.927893810514425,
          0.8526468371403346,
          0.7840331735300459,
          0.7223291026901533,
          0.6677830851358608,
          0.6206147584281834,
          0.5810140527710053,
          0.5491404262291859,
          0.5251222226472114,
          0.5090561548538308,
          0.5010069152336298,
          0.5010069152336298,
          0.5090561548538308,
          0.5251222226472114,
          0.5491404262291859,
          0.5810140527710053,
          0.6206147584281831,
          0.6677830851358608,
          0.722329102690153,
          0.7840331735300461,
          0.8526468371403344,
          0.9278938105144252,
          1.0094711006484904,
          1.0970502245873575,
          1.1902785321094296,
          1.2887806257246666,
          1.392159872267779,
          1.5000000000000007,
          1.611866774788452,
          1.7273097486137425,
          1.8458640733651563,
          1.9670523726199307,
          2.090386663869619,
          2.2153703234534294,
          2.3415000862864224,
          2.468268072330385,
          2.5951638316474845,
          2.7216763998020217,
          2.84729635533386,
          2.971517871018855,
          3.09384075065655,
          3.2137724431837436,
          3.3308300260037735,
          3.4445421495453656,
          3.5544509352210047,
          3.6601138191423956,
          3.7611053341690455,
          3.857018823114265,
          3.94746807621014,
          4.032088886237956,
          4.110540515062118,
          4.182507065662362,
          4.24769875413957,
          4.305853076573242,
          4.356735866032145,
          4.400142235481891,
          4.435897402792713,
          4.463857394525414,
          4.483909625661591,
          4.495973352943769,
          4.5
         ],
         "y": [
          2.5,
          2.5951358794848467,
          2.6898886803606237,
          2.7838768665406155,
          2.876721980771619,
          2.9680501685477307,
          3.0574936834904913,
          3.1446923681337573,
          3.229295104150703,
          3.3109612261833963,
          3.3893618935819605,
          3.4641814145298087,
          3.535118517223168,
          3.6018875629863,
          3.6642196964376352,
          3.7218639280755035,
          3.7745881449242713,
          3.822180045171373,
          3.8644479930317774,
          3.90122179039766,
          3.932353362166111,
          3.9577173524853126,
          3.9772116295183118,
          3.9907576966918814,
          3.998301008774512,
          3.9998111915108128,
          3.9952821639279135,
          3.984732162821399,
          3.9682036693221683,
          3.945763237839913,
          3.9175012280720027,
          3.883531441156872,
          3.8439906614370036,
          3.799038105676658,
          3.748854781952157,
          3.693642760796248,
          3.6336243615313877,
          3.569041257068294,
          3.5001535007744375,
          3.4272384793309074,
          3.350589795794156,
          3.2705160873601096,
          3.187339782591116,
          3.1013958031099205,
          3.013030214988503,
          2.9225988352621446,
          2.8304657991798114,
          2.737002093960025,
          2.6425840649562735,
          2.5475919002471015,
          2.452408099752898,
          2.357415935043726,
          2.262997906039975,
          2.169534200820189,
          2.0774011647378554,
          1.986969785011497,
          1.8986041968900793,
          1.8126602174088846,
          1.7294839126398904,
          1.649410204205844,
          1.5727615206690921,
          1.4998464992255627,
          1.4309587429317057,
          1.3663756384686128,
          1.306357239203752,
          1.2511452180478433,
          1.2009618943233418,
          1.156009338562996,
          1.116468558843128,
          1.0824987719279973,
          1.0542367621600868,
          1.031796330677832,
          1.015267837178601,
          1.0047178360720865,
          1.0001888084891875,
          1.0016989912254881,
          1.0092423033081188,
          1.0227883704816878,
          1.0422826475146876,
          1.0676466378338891,
          1.0987782096023397,
          1.1355520069682226,
          1.177819954828627,
          1.2254118550757285,
          1.278136071924496,
          1.3357803035623652,
          1.3981124370137001,
          1.464881482776832,
          1.5358185854701907,
          1.6106381064180397,
          1.6890387738166037,
          1.7707048958492968,
          1.8553076318662423,
          1.9425063165095091,
          2.0319498314522693,
          2.123278019228381,
          2.2161231334593854,
          2.3101113196393763,
          2.4048641205151533,
          2.4999999999999996
         ]
        }
       ],
       "layout": {
        "autosize": true,
        "template": {
         "data": {
          "bar": [
           {
            "error_x": {
             "color": "#2a3f5f"
            },
            "error_y": {
             "color": "#2a3f5f"
            },
            "marker": {
             "line": {
              "color": "#E5ECF6",
              "width": 0.5
             },
             "pattern": {
              "fillmode": "overlay",
              "size": 10,
              "solidity": 0.2
             }
            },
            "type": "bar"
           }
          ],
          "barpolar": [
           {
            "marker": {
             "line": {
              "color": "#E5ECF6",
              "width": 0.5
             },
             "pattern": {
              "fillmode": "overlay",
              "size": 10,
              "solidity": 0.2
             }
            },
            "type": "barpolar"
           }
          ],
          "carpet": [
           {
            "aaxis": {
             "endlinecolor": "#2a3f5f",
             "gridcolor": "white",
             "linecolor": "white",
             "minorgridcolor": "white",
             "startlinecolor": "#2a3f5f"
            },
            "baxis": {
             "endlinecolor": "#2a3f5f",
             "gridcolor": "white",
             "linecolor": "white",
             "minorgridcolor": "white",
             "startlinecolor": "#2a3f5f"
            },
            "type": "carpet"
           }
          ],
          "choropleth": [
           {
            "colorbar": {
             "outlinewidth": 0,
             "ticks": ""
            },
            "type": "choropleth"
           }
          ],
          "contour": [
           {
            "colorbar": {
             "outlinewidth": 0,
             "ticks": ""
            },
            "colorscale": [
             [
              0,
              "#0d0887"
             ],
             [
              0.1111111111111111,
              "#46039f"
             ],
             [
              0.2222222222222222,
              "#7201a8"
             ],
             [
              0.3333333333333333,
              "#9c179e"
             ],
             [
              0.4444444444444444,
              "#bd3786"
             ],
             [
              0.5555555555555556,
              "#d8576b"
             ],
             [
              0.6666666666666666,
              "#ed7953"
             ],
             [
              0.7777777777777778,
              "#fb9f3a"
             ],
             [
              0.8888888888888888,
              "#fdca26"
             ],
             [
              1,
              "#f0f921"
             ]
            ],
            "type": "contour"
           }
          ],
          "contourcarpet": [
           {
            "colorbar": {
             "outlinewidth": 0,
             "ticks": ""
            },
            "type": "contourcarpet"
           }
          ],
          "heatmap": [
           {
            "colorbar": {
             "outlinewidth": 0,
             "ticks": ""
            },
            "colorscale": [
             [
              0,
              "#0d0887"
             ],
             [
              0.1111111111111111,
              "#46039f"
             ],
             [
              0.2222222222222222,
              "#7201a8"
             ],
             [
              0.3333333333333333,
              "#9c179e"
             ],
             [
              0.4444444444444444,
              "#bd3786"
             ],
             [
              0.5555555555555556,
              "#d8576b"
             ],
             [
              0.6666666666666666,
              "#ed7953"
             ],
             [
              0.7777777777777778,
              "#fb9f3a"
             ],
             [
              0.8888888888888888,
              "#fdca26"
             ],
             [
              1,
              "#f0f921"
             ]
            ],
            "type": "heatmap"
           }
          ],
          "heatmapgl": [
           {
            "colorbar": {
             "outlinewidth": 0,
             "ticks": ""
            },
            "colorscale": [
             [
              0,
              "#0d0887"
             ],
             [
              0.1111111111111111,
              "#46039f"
             ],
             [
              0.2222222222222222,
              "#7201a8"
             ],
             [
              0.3333333333333333,
              "#9c179e"
             ],
             [
              0.4444444444444444,
              "#bd3786"
             ],
             [
              0.5555555555555556,
              "#d8576b"
             ],
             [
              0.6666666666666666,
              "#ed7953"
             ],
             [
              0.7777777777777778,
              "#fb9f3a"
             ],
             [
              0.8888888888888888,
              "#fdca26"
             ],
             [
              1,
              "#f0f921"
             ]
            ],
            "type": "heatmapgl"
           }
          ],
          "histogram": [
           {
            "marker": {
             "pattern": {
              "fillmode": "overlay",
              "size": 10,
              "solidity": 0.2
             }
            },
            "type": "histogram"
           }
          ],
          "histogram2d": [
           {
            "colorbar": {
             "outlinewidth": 0,
             "ticks": ""
            },
            "colorscale": [
             [
              0,
              "#0d0887"
             ],
             [
              0.1111111111111111,
              "#46039f"
             ],
             [
              0.2222222222222222,
              "#7201a8"
             ],
             [
              0.3333333333333333,
              "#9c179e"
             ],
             [
              0.4444444444444444,
              "#bd3786"
             ],
             [
              0.5555555555555556,
              "#d8576b"
             ],
             [
              0.6666666666666666,
              "#ed7953"
             ],
             [
              0.7777777777777778,
              "#fb9f3a"
             ],
             [
              0.8888888888888888,
              "#fdca26"
             ],
             [
              1,
              "#f0f921"
             ]
            ],
            "type": "histogram2d"
           }
          ],
          "histogram2dcontour": [
           {
            "colorbar": {
             "outlinewidth": 0,
             "ticks": ""
            },
            "colorscale": [
             [
              0,
              "#0d0887"
             ],
             [
              0.1111111111111111,
              "#46039f"
             ],
             [
              0.2222222222222222,
              "#7201a8"
             ],
             [
              0.3333333333333333,
              "#9c179e"
             ],
             [
              0.4444444444444444,
              "#bd3786"
             ],
             [
              0.5555555555555556,
              "#d8576b"
             ],
             [
              0.6666666666666666,
              "#ed7953"
             ],
             [
              0.7777777777777778,
              "#fb9f3a"
             ],
             [
              0.8888888888888888,
              "#fdca26"
             ],
             [
              1,
              "#f0f921"
             ]
            ],
            "type": "histogram2dcontour"
           }
          ],
          "mesh3d": [
           {
            "colorbar": {
             "outlinewidth": 0,
             "ticks": ""
            },
            "type": "mesh3d"
           }
          ],
          "parcoords": [
           {
            "line": {
             "colorbar": {
              "outlinewidth": 0,
              "ticks": ""
             }
            },
            "type": "parcoords"
           }
          ],
          "pie": [
           {
            "automargin": true,
            "type": "pie"
           }
          ],
          "scatter": [
           {
            "fillpattern": {
             "fillmode": "overlay",
             "size": 10,
             "solidity": 0.2
            },
            "type": "scatter"
           }
          ],
          "scatter3d": [
           {
            "line": {
             "colorbar": {
              "outlinewidth": 0,
              "ticks": ""
             }
            },
            "marker": {
             "colorbar": {
              "outlinewidth": 0,
              "ticks": ""
             }
            },
            "type": "scatter3d"
           }
          ],
          "scattercarpet": [
           {
            "marker": {
             "colorbar": {
              "outlinewidth": 0,
              "ticks": ""
             }
            },
            "type": "scattercarpet"
           }
          ],
          "scattergeo": [
           {
            "marker": {
             "colorbar": {
              "outlinewidth": 0,
              "ticks": ""
             }
            },
            "type": "scattergeo"
           }
          ],
          "scattergl": [
           {
            "marker": {
             "colorbar": {
              "outlinewidth": 0,
              "ticks": ""
             }
            },
            "type": "scattergl"
           }
          ],
          "scattermapbox": [
           {
            "marker": {
             "colorbar": {
              "outlinewidth": 0,
              "ticks": ""
             }
            },
            "type": "scattermapbox"
           }
          ],
          "scatterpolar": [
           {
            "marker": {
             "colorbar": {
              "outlinewidth": 0,
              "ticks": ""
             }
            },
            "type": "scatterpolar"
           }
          ],
          "scatterpolargl": [
           {
            "marker": {
             "colorbar": {
              "outlinewidth": 0,
              "ticks": ""
             }
            },
            "type": "scatterpolargl"
           }
          ],
          "scatterternary": [
           {
            "marker": {
             "colorbar": {
              "outlinewidth": 0,
              "ticks": ""
             }
            },
            "type": "scatterternary"
           }
          ],
          "surface": [
           {
            "colorbar": {
             "outlinewidth": 0,
             "ticks": ""
            },
            "colorscale": [
             [
              0,
              "#0d0887"
             ],
             [
              0.1111111111111111,
              "#46039f"
             ],
             [
              0.2222222222222222,
              "#7201a8"
             ],
             [
              0.3333333333333333,
              "#9c179e"
             ],
             [
              0.4444444444444444,
              "#bd3786"
             ],
             [
              0.5555555555555556,
              "#d8576b"
             ],
             [
              0.6666666666666666,
              "#ed7953"
             ],
             [
              0.7777777777777778,
              "#fb9f3a"
             ],
             [
              0.8888888888888888,
              "#fdca26"
             ],
             [
              1,
              "#f0f921"
             ]
            ],
            "type": "surface"
           }
          ],
          "table": [
           {
            "cells": {
             "fill": {
              "color": "#EBF0F8"
             },
             "line": {
              "color": "white"
             }
            },
            "header": {
             "fill": {
              "color": "#C8D4E3"
             },
             "line": {
              "color": "white"
             }
            },
            "type": "table"
           }
          ]
         },
         "layout": {
          "annotationdefaults": {
           "arrowcolor": "#2a3f5f",
           "arrowhead": 0,
           "arrowwidth": 1
          },
          "autotypenumbers": "strict",
          "coloraxis": {
           "colorbar": {
            "outlinewidth": 0,
            "ticks": ""
           }
          },
          "colorscale": {
           "diverging": [
            [
             0,
             "#8e0152"
            ],
            [
             0.1,
             "#c51b7d"
            ],
            [
             0.2,
             "#de77ae"
            ],
            [
             0.3,
             "#f1b6da"
            ],
            [
             0.4,
             "#fde0ef"
            ],
            [
             0.5,
             "#f7f7f7"
            ],
            [
             0.6,
             "#e6f5d0"
            ],
            [
             0.7,
             "#b8e186"
            ],
            [
             0.8,
             "#7fbc41"
            ],
            [
             0.9,
             "#4d9221"
            ],
            [
             1,
             "#276419"
            ]
           ],
           "sequential": [
            [
             0,
             "#0d0887"
            ],
            [
             0.1111111111111111,
             "#46039f"
            ],
            [
             0.2222222222222222,
             "#7201a8"
            ],
            [
             0.3333333333333333,
             "#9c179e"
            ],
            [
             0.4444444444444444,
             "#bd3786"
            ],
            [
             0.5555555555555556,
             "#d8576b"
            ],
            [
             0.6666666666666666,
             "#ed7953"
            ],
            [
             0.7777777777777778,
             "#fb9f3a"
            ],
            [
             0.8888888888888888,
             "#fdca26"
            ],
            [
             1,
             "#f0f921"
            ]
           ],
           "sequentialminus": [
            [
             0,
             "#0d0887"
            ],
            [
             0.1111111111111111,
             "#46039f"
            ],
            [
             0.2222222222222222,
             "#7201a8"
            ],
            [
             0.3333333333333333,
             "#9c179e"
            ],
            [
             0.4444444444444444,
             "#bd3786"
            ],
            [
             0.5555555555555556,
             "#d8576b"
            ],
            [
             0.6666666666666666,
             "#ed7953"
            ],
            [
             0.7777777777777778,
             "#fb9f3a"
            ],
            [
             0.8888888888888888,
             "#fdca26"
            ],
            [
             1,
             "#f0f921"
            ]
           ]
          },
          "colorway": [
           "#636efa",
           "#EF553B",
           "#00cc96",
           "#ab63fa",
           "#FFA15A",
           "#19d3f3",
           "#FF6692",
           "#B6E880",
           "#FF97FF",
           "#FECB52"
          ],
          "font": {
           "color": "#2a3f5f"
          },
          "geo": {
           "bgcolor": "white",
           "lakecolor": "white",
           "landcolor": "#E5ECF6",
           "showlakes": true,
           "showland": true,
           "subunitcolor": "white"
          },
          "hoverlabel": {
           "align": "left"
          },
          "hovermode": "closest",
          "mapbox": {
           "style": "light"
          },
          "paper_bgcolor": "white",
          "plot_bgcolor": "#E5ECF6",
          "polar": {
           "angularaxis": {
            "gridcolor": "white",
            "linecolor": "white",
            "ticks": ""
           },
           "bgcolor": "#E5ECF6",
           "radialaxis": {
            "gridcolor": "white",
            "linecolor": "white",
            "ticks": ""
           }
          },
          "scene": {
           "xaxis": {
            "backgroundcolor": "#E5ECF6",
            "gridcolor": "white",
            "gridwidth": 2,
            "linecolor": "white",
            "showbackground": true,
            "ticks": "",
            "zerolinecolor": "white"
           },
           "yaxis": {
            "backgroundcolor": "#E5ECF6",
            "gridcolor": "white",
            "gridwidth": 2,
            "linecolor": "white",
            "showbackground": true,
            "ticks": "",
            "zerolinecolor": "white"
           },
           "zaxis": {
            "backgroundcolor": "#E5ECF6",
            "gridcolor": "white",
            "gridwidth": 2,
            "linecolor": "white",
            "showbackground": true,
            "ticks": "",
            "zerolinecolor": "white"
           }
          },
          "shapedefaults": {
           "line": {
            "color": "#2a3f5f"
           }
          },
          "ternary": {
           "aaxis": {
            "gridcolor": "white",
            "linecolor": "white",
            "ticks": ""
           },
           "baxis": {
            "gridcolor": "white",
            "linecolor": "white",
            "ticks": ""
           },
           "bgcolor": "#E5ECF6",
           "caxis": {
            "gridcolor": "white",
            "linecolor": "white",
            "ticks": ""
           }
          },
          "title": {
           "x": 0.05
          },
          "xaxis": {
           "automargin": true,
           "gridcolor": "white",
           "linecolor": "white",
           "ticks": "",
           "title": {
            "standoff": 15
           },
           "zerolinecolor": "white",
           "zerolinewidth": 2
          },
          "yaxis": {
           "automargin": true,
           "gridcolor": "white",
           "linecolor": "white",
           "ticks": "",
           "title": {
            "standoff": 15
           },
           "zerolinecolor": "white",
           "zerolinewidth": 2
          }
         }
        },
        "title": {
         "text": "Zwei Partitionen von Punkten, die durch eine ellipsenförmige Trennlinie unterschieden werden"
        },
        "xaxis": {
         "range": [
          0,
          5
         ],
         "title": {
          "text": "x"
         },
         "type": "linear"
        },
        "yaxis": {
         "range": [
          0,
          5
         ],
         "title": {
          "text": "y"
         },
         "type": "linear"
        }
       }
      },
      "image/png": "[encoded data removed]",
      "text/html": [
       "<div>                            <div id=\"d32057d4-03ed-4a38-9823-2b61b55a579b\" class=\"plotly-graph-div\" style=\"height:700px; width:100%;\"></div>            <script type=\"text/javascript\">                require([\"plotly\"], function(Plotly) {                    window.PLOTLYENV=window.PLOTLYENV || {};                                    if (document.getElementById(\"d32057d4-03ed-4a38-9823-2b61b55a579b\")) {                    Plotly.newPlot(                        \"d32057d4-03ed-4a38-9823-2b61b55a579b\",                        [{\"marker\":{\"color\":\"blue\"},\"mode\":\"markers\",\"name\":\"Partition 1 (Innen)\",\"x\":[3.6599697090570253,3.540362888980227,1.0616955533913808,0.9170225492671691,1.5212112147976886,2.6237821581611893,1.4607232426760908,1.8318092164684585,0.9983689107917987,2.571172192068058,2.9620728443102124,3.0377242595071916,2.2007624686980067,3.31261142176991,0.9242722776276352,4.143687545759647,1.7837666334679465,1.4046725484369038,0.7046211248738132,4.010984903770199,4.0773071422741705,3.8563517334297286,1.7923286427213632],\"y\":[1.654490124263246,2.3610746258097466,2.8063859878474813,2.4689779818219537,2.6136641469099704,2.137705091792748,1.5717799053816335,2.542853455823514,2.0519146151781484,3.7777556927152434,1.1439908274581123,1.4487572645688402,2.6967112095782535,2.1355389431312815,2.553736512887829,2.4862425294619275,1.5043915490838482,1.424202471887338,3.047821669899484,2.5133951161443076,2.447263801387815,3.360677737029393,1.1881877199619983],\"type\":\"scatter\"},{\"marker\":{\"color\":\"red\"},\"mode\":\"markers\",\"name\":\"Partition 2 (Au\\u00dfen)\",\"x\":[1.838915663596266,3.1615291529678973,3.1676485538044736,0.4514488502720415,4.17651247794619,0.9325925519992712,0.20387570777381958,2.954464715941209,0.08293914463928076,2.560465291496405,3.2258639520472494,3.45468869051233,4.6836499436836725,0.6876047207299663,0.5673676062029454,4.623468091392814,1.289708138575778,4.0861110010060795,0.46551383902949606,4.486078789766633,4.502090285816652,3.16550728636634,3.629778394351197,4.485551299762886,4.4354321213255865,3.899377729288119,3.2101582307714387,0.42069982497524416,4.492770942635397,0.04598525808314824,0.5073577143301605,0.025307919231093434,2.7436689468329307,3.459475988463466,3.259806297513003,3.560896106737679,1.6269984907963386,3.732457025590121,4.24611705247089,3.2880644615017167],\"y\":[4.702292921764571,4.769642885012937,4.574321951102243,0.07728308264433714,4.641592812938627,4.833274095218348,4.818099885446264,4.265047277336801,1.9254886430096263,4.255683357584284,0.8474637334304624,4.680773870803905,2.8503058504468246,0.4858824688538427,4.950269250521316,0.7004200761826201,4.386865359639777,3.48507870497634,4.046805777392568,4.050566973395904,4.335361592900519,4.566202762782357,3.9914758948338758,3.2498196538888258,3.509834386288517,3.978963347180505,4.450026709087831,1.689975784257679,0.469909699204345,0.17971136898371043,2.3279900906623006,1.432706260641422,0.15250124969524714,0.18674094374607209,4.113002803298292,0.6353025632594239,3.849967765493054,1.0791051374842158,0.42673732496884,0.2584086058430385],\"type\":\"scatter\"},{\"line\":{\"color\":\"green\"},\"mode\":\"lines\",\"name\":\"Trennellipse\",\"x\":[4.5,4.495973352943769,4.483909625661591,4.463857394525413,4.435897402792713,4.400142235481891,4.356735866032145,4.305853076573243,4.24769875413957,4.182507065662362,4.110540515062118,4.032088886237956,3.94746807621014,3.8570188231142644,3.761105334169045,3.6601138191423965,3.5544509352210047,3.4445421495453656,3.330830026003773,3.2137724431837436,3.09384075065655,2.971517871018855,2.847296355333861,2.721676399802022,2.5951638316474845,2.468268072330384,2.341500086286423,2.2153703234534294,2.0903866638696185,1.9670523726199298,1.8458640733651568,1.7273097486137425,1.6118667747884516,1.4999999999999998,1.3921598722677795,1.2887806257246666,1.19027853210943,1.0970502245873572,1.0094711006484907,0.927893810514425,0.8526468371403346,0.7840331735300459,0.7223291026901533,0.6677830851358608,0.6206147584281834,0.5810140527710053,0.5491404262291859,0.5251222226472114,0.5090561548538308,0.5010069152336298,0.5010069152336298,0.5090561548538308,0.5251222226472114,0.5491404262291859,0.5810140527710053,0.6206147584281831,0.6677830851358608,0.722329102690153,0.7840331735300461,0.8526468371403344,0.9278938105144252,1.0094711006484904,1.0970502245873575,1.1902785321094296,1.2887806257246666,1.392159872267779,1.5000000000000007,1.611866774788452,1.7273097486137425,1.8458640733651563,1.9670523726199307,2.090386663869619,2.2153703234534294,2.3415000862864224,2.468268072330385,2.5951638316474845,2.7216763998020217,2.84729635533386,2.971517871018855,3.09384075065655,3.2137724431837436,3.3308300260037735,3.4445421495453656,3.5544509352210047,3.6601138191423956,3.7611053341690455,3.857018823114265,3.94746807621014,4.032088886237956,4.110540515062118,4.182507065662362,4.24769875413957,4.305853076573242,4.356735866032145,4.400142235481891,4.435897402792713,4.463857394525414,4.483909625661591,4.495973352943769,4.5],\"y\":[2.5,2.5951358794848467,2.6898886803606237,2.7838768665406155,2.876721980771619,2.9680501685477307,3.0574936834904913,3.1446923681337573,3.229295104150703,3.3109612261833963,3.3893618935819605,3.4641814145298087,3.535118517223168,3.6018875629863,3.6642196964376352,3.7218639280755035,3.7745881449242713,3.822180045171373,3.8644479930317774,3.90122179039766,3.932353362166111,3.9577173524853126,3.9772116295183118,3.9907576966918814,3.998301008774512,3.9998111915108128,3.9952821639279135,3.984732162821399,3.9682036693221683,3.945763237839913,3.9175012280720027,3.883531441156872,3.8439906614370036,3.799038105676658,3.748854781952157,3.693642760796248,3.6336243615313877,3.569041257068294,3.5001535007744375,3.4272384793309074,3.350589795794156,3.2705160873601096,3.187339782591116,3.1013958031099205,3.013030214988503,2.9225988352621446,2.8304657991798114,2.737002093960025,2.6425840649562735,2.5475919002471015,2.452408099752898,2.357415935043726,2.262997906039975,2.169534200820189,2.0774011647378554,1.986969785011497,1.8986041968900793,1.8126602174088846,1.7294839126398904,1.649410204205844,1.5727615206690921,1.4998464992255627,1.4309587429317057,1.3663756384686128,1.306357239203752,1.2511452180478433,1.2009618943233418,1.156009338562996,1.116468558843128,1.0824987719279973,1.0542367621600868,1.031796330677832,1.015267837178601,1.0047178360720865,1.0001888084891875,1.0016989912254881,1.0092423033081188,1.0227883704816878,1.0422826475146876,1.0676466378338891,1.0987782096023397,1.1355520069682226,1.177819954828627,1.2254118550757285,1.278136071924496,1.3357803035623652,1.3981124370137001,1.464881482776832,1.5358185854701907,1.6106381064180397,1.6890387738166037,1.7707048958492968,1.8553076318662423,1.9425063165095091,2.0319498314522693,2.123278019228381,2.2161231334593854,2.3101113196393763,2.4048641205151533,2.4999999999999996],\"type\":\"scatter\"}],                        {\"template\":{\"data\":{\"histogram2dcontour\":[{\"type\":\"histogram2dcontour\",\"colorbar\":{\"outlinewidth\":0,\"ticks\":\"\"},\"colorscale\":[[0.0,\"#0d0887\"],[0.1111111111111111,\"#46039f\"],[0.2222222222222222,\"#7201a8\"],[0.3333333333333333,\"#9c179e\"],[0.4444444444444444,\"#bd3786\"],[0.5555555555555556,\"#d8576b\"],[0.6666666666666666,\"#ed7953\"],[0.7777777777777778,\"#fb9f3a\"],[0.8888888888888888,\"#fdca26\"],[1.0,\"#f0f921\"]]}],\"choropleth\":[{\"type\":\"choropleth\",\"colorbar\":{\"outlinewidth\":0,\"ticks\":\"\"}}],\"histogram2d\":[{\"type\":\"histogram2d\",\"colorbar\":{\"outlinewidth\":0,\"ticks\":\"\"},\"colorscale\":[[0.0,\"#0d0887\"],[0.1111111111111111,\"#46039f\"],[0.2222222222222222,\"#7201a8\"],[0.3333333333333333,\"#9c179e\"],[0.4444444444444444,\"#bd3786\"],[0.5555555555555556,\"#d8576b\"],[0.6666666666666666,\"#ed7953\"],[0.7777777777777778,\"#fb9f3a\"],[0.8888888888888888,\"#fdca26\"],[1.0,\"#f0f921\"]]}],\"heatmap\":[{\"type\":\"heatmap\",\"colorbar\":{\"outlinewidth\":0,\"ticks\":\"\"},\"colorscale\":[[0.0,\"#0d0887\"],[0.1111111111111111,\"#46039f\"],[0.2222222222222222,\"#7201a8\"],[0.3333333333333333,\"#9c179e\"],[0.4444444444444444,\"#bd3786\"],[0.5555555555555556,\"#d8576b\"],[0.6666666666666666,\"#ed7953\"],[0.7777777777777778,\"#fb9f3a\"],[0.8888888888888888,\"#fdca26\"],[1.0,\"#f0f921\"]]}],\"heatmapgl\":[{\"type\":\"heatmapgl\",\"colorbar\":{\"outlinewidth\":0,\"ticks\":\"\"},\"colorscale\":[[0.0,\"#0d0887\"],[0.1111111111111111,\"#46039f\"],[0.2222222222222222,\"#7201a8\"],[0.3333333333333333,\"#9c179e\"],[0.4444444444444444,\"#bd3786\"],[0.5555555555555556,\"#d8576b\"],[0.6666666666666666,\"#ed7953\"],[0.7777777777777778,\"#fb9f3a\"],[0.8888888888888888,\"#fdca26\"],[1.0,\"#f0f921\"]]}],\"contourcarpet\":[{\"type\":\"contourcarpet\",\"colorbar\":{\"outlinewidth\":0,\"ticks\":\"\"}}],\"contour\":[{\"type\":\"contour\",\"colorbar\":{\"outlinewidth\":0,\"ticks\":\"\"},\"colorscale\":[[0.0,\"#0d0887\"],[0.1111111111111111,\"#46039f\"],[0.2222222222222222,\"#7201a8\"],[0.3333333333333333,\"#9c179e\"],[0.4444444444444444,\"#bd3786\"],[0.5555555555555556,\"#d8576b\"],[0.6666666666666666,\"#ed7953\"],[0.7777777777777778,\"#fb9f3a\"],[0.8888888888888888,\"#fdca26\"],[1.0,\"#f0f921\"]]}],\"surface\":[{\"type\":\"surface\",\"colorbar\":{\"outlinewidth\":0,\"ticks\":\"\"},\"colorscale\":[[0.0,\"#0d0887\"],[0.1111111111111111,\"#46039f\"],[0.2222222222222222,\"#7201a8\"],[0.3333333333333333,\"#9c179e\"],[0.4444444444444444,\"#bd3786\"],[0.5555555555555556,\"#d8576b\"],[0.6666666666666666,\"#ed7953\"],[0.7777777777777778,\"#fb9f3a\"],[0.8888888888888888,\"#fdca26\"],[1.0,\"#f0f921\"]]}],\"mesh3d\":[{\"type\":\"mesh3d\",\"colorbar\":{\"outlinewidth\":0,\"ticks\":\"\"}}],\"scatter\":[{\"fillpattern\":{\"fillmode\":\"overlay\",\"size\":10,\"solidity\":0.2},\"type\":\"scatter\"}],\"parcoords\":[{\"type\":\"parcoords\",\"line\":{\"colorbar\":{\"outlinewidth\":0,\"ticks\":\"\"}}}],\"scatterpolargl\":[{\"type\":\"scatterpolargl\",\"marker\":{\"colorbar\":{\"outlinewidth\":0,\"ticks\":\"\"}}}],\"bar\":[{\"error_x\":{\"color\":\"#2a3f5f\"},\"error_y\":{\"color\":\"#2a3f5f\"},\"marker\":{\"line\":{\"color\":\"#E5ECF6\",\"width\":0.5},\"pattern\":{\"fillmode\":\"overlay\",\"size\":10,\"solidity\":0.2}},\"type\":\"bar\"}],\"scattergeo\":[{\"type\":\"scattergeo\",\"marker\":{\"colorbar\":{\"outlinewidth\":0,\"ticks\":\"\"}}}],\"scatterpolar\":[{\"type\":\"scatterpolar\",\"marker\":{\"colorbar\":{\"outlinewidth\":0,\"ticks\":\"\"}}}],\"histogram\":[{\"marker\":{\"pattern\":{\"fillmode\":\"overlay\",\"size\":10,\"solidity\":0.2}},\"type\":\"histogram\"}],\"scattergl\":[{\"type\":\"scattergl\",\"marker\":{\"colorbar\":{\"outlinewidth\":0,\"ticks\":\"\"}}}],\"scatter3d\":[{\"type\":\"scatter3d\",\"line\":{\"colorbar\":{\"outlinewidth\":0,\"ticks\":\"\"}},\"marker\":{\"colorbar\":{\"outlinewidth\":0,\"ticks\":\"\"}}}],\"scattermapbox\":[{\"type\":\"scattermapbox\",\"marker\":{\"colorbar\":{\"outlinewidth\":0,\"ticks\":\"\"}}}],\"scatterternary\":[{\"type\":\"scatterternary\",\"marker\":{\"colorbar\":{\"outlinewidth\":0,\"ticks\":\"\"}}}],\"scattercarpet\":[{\"type\":\"scattercarpet\",\"marker\":{\"colorbar\":{\"outlinewidth\":0,\"ticks\":\"\"}}}],\"carpet\":[{\"aaxis\":{\"endlinecolor\":\"#2a3f5f\",\"gridcolor\":\"white\",\"linecolor\":\"white\",\"minorgridcolor\":\"white\",\"startlinecolor\":\"#2a3f5f\"},\"baxis\":{\"endlinecolor\":\"#2a3f5f\",\"gridcolor\":\"white\",\"linecolor\":\"white\",\"minorgridcolor\":\"white\",\"startlinecolor\":\"#2a3f5f\"},\"type\":\"carpet\"}],\"table\":[{\"cells\":{\"fill\":{\"color\":\"#EBF0F8\"},\"line\":{\"color\":\"white\"}},\"header\":{\"fill\":{\"color\":\"#C8D4E3\"},\"line\":{\"color\":\"white\"}},\"type\":\"table\"}],\"barpolar\":[{\"marker\":{\"line\":{\"color\":\"#E5ECF6\",\"width\":0.5},\"pattern\":{\"fillmode\":\"overlay\",\"size\":10,\"solidity\":0.2}},\"type\":\"barpolar\"}],\"pie\":[{\"automargin\":true,\"type\":\"pie\"}]},\"layout\":{\"autotypenumbers\":\"strict\",\"colorway\":[\"#636efa\",\"#EF553B\",\"#00cc96\",\"#ab63fa\",\"#FFA15A\",\"#19d3f3\",\"#FF6692\",\"#B6E880\",\"#FF97FF\",\"#FECB52\"],\"font\":{\"color\":\"#2a3f5f\"},\"hovermode\":\"closest\",\"hoverlabel\":{\"align\":\"left\"},\"paper_bgcolor\":\"white\",\"plot_bgcolor\":\"#E5ECF6\",\"polar\":{\"bgcolor\":\"#E5ECF6\",\"angularaxis\":{\"gridcolor\":\"white\",\"linecolor\":\"white\",\"ticks\":\"\"},\"radialaxis\":{\"gridcolor\":\"white\",\"linecolor\":\"white\",\"ticks\":\"\"}},\"ternary\":{\"bgcolor\":\"#E5ECF6\",\"aaxis\":{\"gridcolor\":\"white\",\"linecolor\":\"white\",\"ticks\":\"\"},\"baxis\":{\"gridcolor\":\"white\",\"linecolor\":\"white\",\"ticks\":\"\"},\"caxis\":{\"gridcolor\":\"white\",\"linecolor\":\"white\",\"ticks\":\"\"}},\"coloraxis\":{\"colorbar\":{\"outlinewidth\":0,\"ticks\":\"\"}},\"colorscale\":{\"sequential\":[[0.0,\"#0d0887\"],[0.1111111111111111,\"#46039f\"],[0.2222222222222222,\"#7201a8\"],[0.3333333333333333,\"#9c179e\"],[0.4444444444444444,\"#bd3786\"],[0.5555555555555556,\"#d8576b\"],[0.6666666666666666,\"#ed7953\"],[0.7777777777777778,\"#fb9f3a\"],[0.8888888888888888,\"#fdca26\"],[1.0,\"#f0f921\"]],\"sequentialminus\":[[0.0,\"#0d0887\"],[0.1111111111111111,\"#46039f\"],[0.2222222222222222,\"#7201a8\"],[0.3333333333333333,\"#9c179e\"],[0.4444444444444444,\"#bd3786\"],[0.5555555555555556,\"#d8576b\"],[0.6666666666666666,\"#ed7953\"],[0.7777777777777778,\"#fb9f3a\"],[0.8888888888888888,\"#fdca26\"],[1.0,\"#f0f921\"]],\"diverging\":[[0,\"#8e0152\"],[0.1,\"#c51b7d\"],[0.2,\"#de77ae\"],[0.3,\"#f1b6da\"],[0.4,\"#fde0ef\"],[0.5,\"#f7f7f7\"],[0.6,\"#e6f5d0\"],[0.7,\"#b8e186\"],[0.8,\"#7fbc41\"],[0.9,\"#4d9221\"],[1,\"#276419\"]]},\"xaxis\":{\"gridcolor\":\"white\",\"linecolor\":\"white\",\"ticks\":\"\",\"title\":{\"standoff\":15},\"zerolinecolor\":\"white\",\"automargin\":true,\"zerolinewidth\":2},\"yaxis\":{\"gridcolor\":\"white\",\"linecolor\":\"white\",\"ticks\":\"\",\"title\":{\"standoff\":15},\"zerolinecolor\":\"white\",\"automargin\":true,\"zerolinewidth\":2},\"scene\":{\"xaxis\":{\"backgroundcolor\":\"#E5ECF6\",\"gridcolor\":\"white\",\"linecolor\":\"white\",\"showbackground\":true,\"ticks\":\"\",\"zerolinecolor\":\"white\",\"gridwidth\":2},\"yaxis\":{\"backgroundcolor\":\"#E5ECF6\",\"gridcolor\":\"white\",\"linecolor\":\"white\",\"showbackground\":true,\"ticks\":\"\",\"zerolinecolor\":\"white\",\"gridwidth\":2},\"zaxis\":{\"backgroundcolor\":\"#E5ECF6\",\"gridcolor\":\"white\",\"linecolor\":\"white\",\"showbackground\":true,\"ticks\":\"\",\"zerolinecolor\":\"white\",\"gridwidth\":2}},\"shapedefaults\":{\"line\":{\"color\":\"#2a3f5f\"}},\"annotationdefaults\":{\"arrowcolor\":\"#2a3f5f\",\"arrowhead\":0,\"arrowwidth\":1},\"geo\":{\"bgcolor\":\"white\",\"landcolor\":\"#E5ECF6\",\"subunitcolor\":\"white\",\"showland\":true,\"showlakes\":true,\"lakecolor\":\"white\"},\"title\":{\"x\":0.05},\"mapbox\":{\"style\":\"light\"}}},\"xaxis\":{\"title\":{\"text\":\"x\"},\"range\":[0,5]},\"yaxis\":{\"title\":{\"text\":\"y\"},\"range\":[0,5]},\"title\":{\"text\":\"Zwei Partitionen von Punkten, die durch eine ellipsenf\\u00f6rmige Trennlinie unterschieden werden\"},\"height\":700},                        {\"responsive\": true}                    ).then(function(){\n",
       "                            \n",
       "var gd = document.getElementById('d32057d4-03ed-4a38-9823-2b61b55a579b');\n",
       "var x = new MutationObserver(function (mutations, observer) {{\n",
       "        var display = window.getComputedStyle(gd).display;\n",
       "        if (!display || display === 'none') {{\n",
       "            console.log([gd, 'removed!']);\n",
       "            Plotly.purge(gd);\n",
       "            observer.disconnect();\n",
       "        }}\n",
       "}});\n",
       "\n",
       "// Listen for the removal of the full notebook cells\n",
       "var notebookContainer = gd.closest('#notebook-container');\n",
       "if (notebookContainer) {{\n",
       "    x.observe(notebookContainer, {childList: true});\n",
       "}}\n",
       "\n",
       "// Listen for the clearing of the current output cell\n",
       "var outputEl = gd.closest('.output');\n",
       "if (outputEl) {{\n",
       "    x.observe(outputEl, {childList: true});\n",
       "}}\n",
       "\n",
       "                        })                };                });            </script>        </div>"
      ]
     },
     "metadata": {},
     "output_type": "display_data"
    }
   ],
   "source": [
    "import numpy as np\n",
    "import plotly.graph_objects as go\n",
    "\n",
    "# Anzahl der Punkte\n",
    "n_points = 80\n",
    "n_partition = n_points // 2\n",
    "\n",
    "# Generiere Zufallspunkte zwischen 0 und 5 für beide Partitionen\n",
    "np.random.seed(42)\n",
    "\n",
    "# Parameter der Ellipse\n",
    "x0, y0 = 2.5, 2.5  # Mittelpunkt der Ellipse\n",
    "a, b = 2.0, 1.5    # Halbachsen der Ellipse\n",
    "\n",
    "# Ellipsengleichung: (x - x0)^2 / a^2 + (y - y0)^2 / b^2 = 1\n",
    "def is_inside_ellipse(x, y):\n",
    "    return ((x - x0)**2 / a**2 + (y - y0)**2 / b**2) < 1\n",
    "\n",
    "# Partition 1: Punkte innerhalb der Ellipse\n",
    "x1 = np.random.uniform(0, 5, n_partition * 2)\n",
    "y1 = np.random.uniform(0, 5, n_partition * 2)\n",
    "mask1 = is_inside_ellipse(x1, y1)  # Bedingung für Punkte innerhalb der Ellipse\n",
    "x1, y1 = x1[mask1][:n_partition], y1[mask1][:n_partition]  # Auf 40 Punkte beschränken\n",
    "\n",
    "# Partition 2: Punkte außerhalb der Ellipse\n",
    "x2 = np.random.uniform(0, 5, n_partition * 2)\n",
    "y2 = np.random.uniform(0, 5, n_partition * 2)\n",
    "mask2 = ~is_inside_ellipse(x2, y2)  # Bedingung für Punkte außerhalb der Ellipse\n",
    "x2, y2 = x2[mask2][:n_partition], y2[mask2][:n_partition]  # Auf 40 Punkte beschränken\n",
    "\n",
    "# Erstellen der Visualisierung mit plotly\n",
    "fig = go.Figure()\n",
    "\n",
    "# Punkte der ersten Partition (innerhalb der Ellipse)\n",
    "fig.add_trace(go.Scatter(x=x1, y=y1, mode='markers', name='Partition 1 (Innen)', marker=dict(color='blue')))\n",
    "\n",
    "# Punkte der zweiten Partition (außerhalb der Ellipse)\n",
    "fig.add_trace(go.Scatter(x=x2, y=y2, mode='markers', name='Partition 2 (Außen)', marker=dict(color='red')))\n",
    "\n",
    "# Zeichne die Ellipse\n",
    "theta = np.linspace(0, 2 * np.pi, 100)\n",
    "x_ellipse = x0 + a * np.cos(theta)\n",
    "y_ellipse = y0 + b * np.sin(theta)\n",
    "fig.add_trace(go.Scatter(x=x_ellipse, y=y_ellipse, mode='lines', name='Trennellipse', line=dict(color='green')))\n",
    "\n",
    "# Layout-Einstellungen\n",
    "fig.update_layout(\n",
    "    title='Zwei Partitionen von Punkten, die durch eine ellipsenförmige Trennlinie unterschieden werden',\n",
    "    xaxis_title='x',\n",
    "    yaxis_title='y',\n",
    "    xaxis=dict(range=[0, 5]),\n",
    "    yaxis=dict(range=[0, 5]),\n",
    "    height=700\n",
    ")\n",
    "\n",
    "# Visualisierung anzeigen\n",
    "fig.show()\n"
   ]
  },
  {
   "cell_type": "code",
   "execution_count": null,
   "id": "44d6a993-1238-45ca-a4c0-62b3ceb50817",
   "metadata": {},
   "outputs": [],
   "source": []
  }
 ],
 "metadata": {
  "kernelspec": {
   "display_name": "Python 3 (ipykernel)",
   "language": "python",
   "name": "python3"
  },
  "language_info": {
   "codemirror_mode": {
    "name": "ipython",
    "version": 3
   },
   "file_extension": ".py",
   "mimetype": "text/x-python",
   "name": "python",
   "nbconvert_exporter": "python",
   "pygments_lexer": "ipython3",
   "version": "3.12.4"
  }
 },
 "nbformat": 4,
 "nbformat_minor": 5
}
